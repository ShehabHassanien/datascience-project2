{
  "nbformat": 4,
  "nbformat_minor": 0,
  "metadata": {
    "colab": {
      "name": "ActivityRecognition.ipynb",
      "provenance": [],
      "collapsed_sections": [
        "5lJPqBSZLukQ",
        "gymcxxaxwV2F",
        "IxXddMHjxYFs"
      ],
      "toc_visible": true
    },
    "kernelspec": {
      "name": "python3",
      "display_name": "Python 3"
    },
    "language_info": {
      "name": "python"
    }
  },
  "cells": [
    {
      "cell_type": "markdown",
      "metadata": {
        "id": "AXHjRAuX8ZLe"
      },
      "source": [
        "The dataset is downloaded from UCI Learning Repository:https://archive.ics.uci.edu/ml/datasets/Activity+recognition+with+healthy+older+people+using+a+batteryless+wearable+sensor, "
      ]
    },
    {
      "cell_type": "markdown",
      "metadata": {
        "id": "1d2wO-Op8nQr"
      },
      "source": [
        "Data Set Information:\n",
        "\n",
        "This dataset contains the motion data of 14 healthy older aged between 66 and 86 years old, performed broadly scripted activities using a batteryless, wearable sensor on top of their clothing at sternum level. Data is sparse and noisy due to the use of a passive sensor.\n",
        "Participants were allocated in two clinical room settings (S1 and S2). The setting of S1 (Room1) uses 4 RFID reader antennas around the room (one on ceiling level, and 3 on wall level) for the collection of data, whereas the room setting S2 (Room2) uses 3 RFID reader antennas (two at ceiling level and one at wall level) for the collection of motion data.\n",
        "The activities performed were:\n",
        "walking to the chair,\n",
        "sitting on the chair,\n",
        "getting off the chair,\n",
        "walking to bed,\n",
        "lying on bed,\n",
        "getting off the bed and\n",
        "walking to the door.\n",
        "Hence the possible class labels assigned for every sensor observation are:\n",
        "- Sitting on bed\n",
        "- Sitting on chair\n",
        "- Lying on bed\n",
        "- Ambulating, where ambulating includes standing, walking around the room."
      ]
    },
    {
      "cell_type": "markdown",
      "metadata": {
        "id": "PGw_Yyr6_2gU"
      },
      "source": [
        "**Note on the dataset:**\n",
        "\n",
        "Characteristics of Dataset\n",
        "\n",
        "The files for the dataset represent a individual trial performed by a subject wearing \n",
        "a wireless batteryless sensor. Each trial consists of the performance of scripted ADL. \n",
        "The files are anonymized; however, indication of the gender of the participant is \n",
        "indicated at the end of the file name.\n",
        "\n",
        "The content of the file is as follows:\n",
        "Comma separated values (CSV) format.\n",
        "\n",
        "Column 1: Time in seconds starting from 0 rounded to the closest 0.025s\n",
        "\n",
        "Column 2: Acceleration reading in G for frontal axis\n",
        "\n",
        "Column 3: Acceleration reading in G for vertical axis\n",
        "\n",
        "Column 4: Acceleration reading in G for lateral axis\n",
        "\n",
        "Column 5: Id of antenna reading sensor\n",
        "\n",
        "Column 6: Received signal strength indicator (RSSI) \n",
        "\n",
        "Column 7: Phase\n",
        "\n",
        "Column 8: Frequency\n",
        "\n",
        "Column 9: Label of activity, 1: sit on bed, 2: sit on chair, 3: lying, 4: ambulating\n",
        "\n",
        "Additional Information\n",
        "\n",
        "If you wish to use these datasets please cite this paper."
      ]
    },
    {
      "cell_type": "markdown",
      "metadata": {
        "id": "5lJPqBSZLukQ"
      },
      "source": [
        "#Loading the dataset"
      ]
    },
    {
      "cell_type": "code",
      "metadata": {
        "colab": {
          "base_uri": "https://localhost:8080/"
        },
        "id": "YQhkbJWGQV_2",
        "outputId": "dc869e2e-1168-480d-995f-3fe9a00dc62e"
      },
      "source": [
        "# Using Google colab\n",
        "##accessing google drive\n",
        "from google.colab import drive\n",
        "drive.mount('/content/drive')"
      ],
      "execution_count": 1,
      "outputs": [
        {
          "output_type": "stream",
          "text": [
            "Mounted at /content/drive\n"
          ],
          "name": "stdout"
        }
      ]
    },
    {
      "cell_type": "code",
      "metadata": {
        "id": "78uPu1Jx811t"
      },
      "source": [
        "#imports\n",
        "import pandas as pd\n",
        "import numpy as np\n",
        "import matplotlib.pyplot as plt\n",
        "import seaborn as sns\n",
        "import glob\n",
        "import os\n",
        "import math\n",
        "from sklearn.model_selection import train_test_split\n",
        "from sklearn.linear_model import LogisticRegression\n",
        "from sklearn.tree import DecisionTreeClassifier\n",
        "from sklearn.ensemble import RandomForestClassifier\n",
        "from sklearn.preprocessing import StandardScaler\n",
        "from sklearn.neighbors import KNeighborsClassifier\n",
        "from sklearn.ensemble import GradientBoostingClassifier\n",
        "from lightgbm import LGBMModel,LGBMClassifier\n",
        "from xgboost import XGBClassifier"
      ],
      "execution_count": 36,
      "outputs": []
    },
    {
      "cell_type": "markdown",
      "metadata": {
        "id": "ddRLM8sR-s9q"
      },
      "source": [
        "I loaded all the study files provided by UCI into my Google directory \"/content/drive/MyDrive/Colab Notebooks/DataScience_Project2/Data/\". Now I am going to iterate through the files and load them all in one DataFrame. Notice from the UIC Learning Repository description that the files ending with \"M\" are for male users and the files ending with \"F\" are for Female users of the study."
      ]
    },
    {
      "cell_type": "code",
      "metadata": {
        "id": "szoDIx4UGJFo",
        "colab": {
          "base_uri": "https://localhost:8080/",
          "height": 35
        },
        "outputId": "4d0b23c6-5ad1-4f66-be5b-ca7575428133"
      },
      "source": [
        "# I wanted to add the .csv extension to the loaded files and found:\n",
        "#https://stackoverflow.com/questions/45627352/python-renaming-all-files-in-a-directory-using-a-loop\n",
        "'''\n",
        "path = '/content/drive/MyDrive/Colab Notebooks/DataScience_Project2/Data/'\n",
        "i = 0\n",
        "for filename in os.listdir(path):\n",
        "    os.rename(os.path.join(path,filename), os.path.join(path,filename+'.csv'))\n",
        "    i = i +1\n",
        "'''"
      ],
      "execution_count": 3,
      "outputs": [
        {
          "output_type": "execute_result",
          "data": {
            "application/vnd.google.colaboratory.intrinsic+json": {
              "type": "string"
            },
            "text/plain": [
              "\"\\npath = '/content/drive/MyDrive/Colab Notebooks/DataScience_Project2/Data/'\\ni = 0\\nfor filename in os.listdir(path):\\n    os.rename(os.path.join(path,filename), os.path.join(path,filename+'.csv'))\\n    i = i +1\\n\""
            ]
          },
          "metadata": {
            "tags": []
          },
          "execution_count": 3
        }
      ]
    },
    {
      "cell_type": "markdown",
      "metadata": {
        "id": "gipGbCXgLzvA"
      },
      "source": [
        "I need to load the Male datasets into one dataframe and the Female datasets into one frame so I found this tip: https://stackoverflow.com/questions/20906474/import-multiple-csv-files-into-pandas-and-concatenate-into-one-dataframe\n",
        "\n",
        "I also wanted to look at the activities per person, and as each file is dedicated to a unique person, I decided to include the person filename as the person's identity for initial assessments."
      ]
    },
    {
      "cell_type": "code",
      "metadata": {
        "id": "DlozE9nCH0d8"
      },
      "source": [
        "header_list = ['Time', 'acc_front', 'acc_vert', 'acc_lat', 'antenna_id', 'rssi', 'phase', 'frequency', 'activity']\n",
        "path = r'/content/drive/MyDrive/Colab Notebooks/DataScience_Project2/Data'\n",
        "all_files = glob.glob(path + \"/*.csv\")\n",
        "\n",
        "li_m = []\n",
        "li_f = []\n",
        "\n",
        "for filename in all_files:\n",
        "    if filename.endswith('M.csv'):\n",
        "      df = pd.read_csv(filename, names=header_list)\n",
        "      df['person']=filename.split('M.csv')[0][-5:]\n",
        "      li_m.append(df)\n",
        "    elif filename.endswith('F.csv'):\n",
        "      df = pd.read_csv(filename, names=header_list)\n",
        "      df['person']=filename.split('F.csv')[0][-5:]\n",
        "      li_f.append(df)\n",
        "\n",
        "activity_df_m = pd.concat(li_m, axis=0, ignore_index=True)\n",
        "activity_df_f = pd.concat(li_f, axis=0, ignore_index=True)"
      ],
      "execution_count": 4,
      "outputs": []
    },
    {
      "cell_type": "markdown",
      "metadata": {
        "id": "w0jXXwYoMC5T"
      },
      "source": [
        "I am going to add a gender column and assign M and F depending on the dataset before appending them both into one"
      ]
    },
    {
      "cell_type": "code",
      "metadata": {
        "colab": {
          "base_uri": "https://localhost:8080/",
          "height": 204
        },
        "id": "kR3l0vzyLlOM",
        "outputId": "6ac0f754-a137-4370-efd8-02ae232cefde"
      },
      "source": [
        "activity_df_f['gender'] = 'F'\n",
        "activity_df_f.head()"
      ],
      "execution_count": 5,
      "outputs": [
        {
          "output_type": "execute_result",
          "data": {
            "text/html": [
              "<div>\n",
              "<style scoped>\n",
              "    .dataframe tbody tr th:only-of-type {\n",
              "        vertical-align: middle;\n",
              "    }\n",
              "\n",
              "    .dataframe tbody tr th {\n",
              "        vertical-align: top;\n",
              "    }\n",
              "\n",
              "    .dataframe thead th {\n",
              "        text-align: right;\n",
              "    }\n",
              "</style>\n",
              "<table border=\"1\" class=\"dataframe\">\n",
              "  <thead>\n",
              "    <tr style=\"text-align: right;\">\n",
              "      <th></th>\n",
              "      <th>Time</th>\n",
              "      <th>acc_front</th>\n",
              "      <th>acc_vert</th>\n",
              "      <th>acc_lat</th>\n",
              "      <th>antenna_id</th>\n",
              "      <th>rssi</th>\n",
              "      <th>phase</th>\n",
              "      <th>frequency</th>\n",
              "      <th>activity</th>\n",
              "      <th>person</th>\n",
              "      <th>gender</th>\n",
              "    </tr>\n",
              "  </thead>\n",
              "  <tbody>\n",
              "    <tr>\n",
              "      <th>0</th>\n",
              "      <td>0.00</td>\n",
              "      <td>0.51826</td>\n",
              "      <td>0.89339</td>\n",
              "      <td>0.13456</td>\n",
              "      <td>4</td>\n",
              "      <td>-56.5</td>\n",
              "      <td>5.83680</td>\n",
              "      <td>921.75</td>\n",
              "      <td>1</td>\n",
              "      <td>d1p08</td>\n",
              "      <td>F</td>\n",
              "    </tr>\n",
              "    <tr>\n",
              "      <th>1</th>\n",
              "      <td>0.25</td>\n",
              "      <td>0.51826</td>\n",
              "      <td>0.89339</td>\n",
              "      <td>0.13456</td>\n",
              "      <td>3</td>\n",
              "      <td>-68.0</td>\n",
              "      <td>4.84120</td>\n",
              "      <td>925.75</td>\n",
              "      <td>1</td>\n",
              "      <td>d1p08</td>\n",
              "      <td>F</td>\n",
              "    </tr>\n",
              "    <tr>\n",
              "      <th>2</th>\n",
              "      <td>0.75</td>\n",
              "      <td>0.51826</td>\n",
              "      <td>0.89339</td>\n",
              "      <td>0.13456</td>\n",
              "      <td>4</td>\n",
              "      <td>-55.5</td>\n",
              "      <td>3.64170</td>\n",
              "      <td>924.25</td>\n",
              "      <td>1</td>\n",
              "      <td>d1p08</td>\n",
              "      <td>F</td>\n",
              "    </tr>\n",
              "    <tr>\n",
              "      <th>3</th>\n",
              "      <td>1.25</td>\n",
              "      <td>0.51826</td>\n",
              "      <td>0.89339</td>\n",
              "      <td>0.13456</td>\n",
              "      <td>3</td>\n",
              "      <td>-57.5</td>\n",
              "      <td>1.77790</td>\n",
              "      <td>924.75</td>\n",
              "      <td>1</td>\n",
              "      <td>d1p08</td>\n",
              "      <td>F</td>\n",
              "    </tr>\n",
              "    <tr>\n",
              "      <th>4</th>\n",
              "      <td>1.75</td>\n",
              "      <td>0.51826</td>\n",
              "      <td>0.89339</td>\n",
              "      <td>0.13456</td>\n",
              "      <td>4</td>\n",
              "      <td>-61.5</td>\n",
              "      <td>0.24083</td>\n",
              "      <td>922.75</td>\n",
              "      <td>1</td>\n",
              "      <td>d1p08</td>\n",
              "      <td>F</td>\n",
              "    </tr>\n",
              "  </tbody>\n",
              "</table>\n",
              "</div>"
            ],
            "text/plain": [
              "   Time  acc_front  acc_vert  acc_lat  ...  frequency  activity  person  gender\n",
              "0  0.00    0.51826   0.89339  0.13456  ...     921.75         1   d1p08       F\n",
              "1  0.25    0.51826   0.89339  0.13456  ...     925.75         1   d1p08       F\n",
              "2  0.75    0.51826   0.89339  0.13456  ...     924.25         1   d1p08       F\n",
              "3  1.25    0.51826   0.89339  0.13456  ...     924.75         1   d1p08       F\n",
              "4  1.75    0.51826   0.89339  0.13456  ...     922.75         1   d1p08       F\n",
              "\n",
              "[5 rows x 11 columns]"
            ]
          },
          "metadata": {
            "tags": []
          },
          "execution_count": 5
        }
      ]
    },
    {
      "cell_type": "code",
      "metadata": {
        "colab": {
          "base_uri": "https://localhost:8080/",
          "height": 204
        },
        "id": "bY8aExS3LhkR",
        "outputId": "02ae7ff6-19fb-4a0f-bfa6-a9f28825ab6b"
      },
      "source": [
        "activity_df_m['gender'] = 'M'\n",
        "activity_df_m.head()"
      ],
      "execution_count": 6,
      "outputs": [
        {
          "output_type": "execute_result",
          "data": {
            "text/html": [
              "<div>\n",
              "<style scoped>\n",
              "    .dataframe tbody tr th:only-of-type {\n",
              "        vertical-align: middle;\n",
              "    }\n",
              "\n",
              "    .dataframe tbody tr th {\n",
              "        vertical-align: top;\n",
              "    }\n",
              "\n",
              "    .dataframe thead th {\n",
              "        text-align: right;\n",
              "    }\n",
              "</style>\n",
              "<table border=\"1\" class=\"dataframe\">\n",
              "  <thead>\n",
              "    <tr style=\"text-align: right;\">\n",
              "      <th></th>\n",
              "      <th>Time</th>\n",
              "      <th>acc_front</th>\n",
              "      <th>acc_vert</th>\n",
              "      <th>acc_lat</th>\n",
              "      <th>antenna_id</th>\n",
              "      <th>rssi</th>\n",
              "      <th>phase</th>\n",
              "      <th>frequency</th>\n",
              "      <th>activity</th>\n",
              "      <th>person</th>\n",
              "      <th>gender</th>\n",
              "    </tr>\n",
              "  </thead>\n",
              "  <tbody>\n",
              "    <tr>\n",
              "      <th>0</th>\n",
              "      <td>0.00</td>\n",
              "      <td>-0.044557</td>\n",
              "      <td>0.93932</td>\n",
              "      <td>0.111750</td>\n",
              "      <td>1</td>\n",
              "      <td>-58.0</td>\n",
              "      <td>0.17794</td>\n",
              "      <td>920.75</td>\n",
              "      <td>4</td>\n",
              "      <td>d1p02</td>\n",
              "      <td>M</td>\n",
              "    </tr>\n",
              "    <tr>\n",
              "      <th>1</th>\n",
              "      <td>0.25</td>\n",
              "      <td>-0.044557</td>\n",
              "      <td>0.93932</td>\n",
              "      <td>0.111750</td>\n",
              "      <td>1</td>\n",
              "      <td>-60.0</td>\n",
              "      <td>0.46940</td>\n",
              "      <td>920.25</td>\n",
              "      <td>4</td>\n",
              "      <td>d1p02</td>\n",
              "      <td>M</td>\n",
              "    </tr>\n",
              "    <tr>\n",
              "      <th>2</th>\n",
              "      <td>0.75</td>\n",
              "      <td>-0.044557</td>\n",
              "      <td>0.93932</td>\n",
              "      <td>0.111750</td>\n",
              "      <td>3</td>\n",
              "      <td>-68.5</td>\n",
              "      <td>0.15033</td>\n",
              "      <td>923.25</td>\n",
              "      <td>1</td>\n",
              "      <td>d1p02</td>\n",
              "      <td>M</td>\n",
              "    </tr>\n",
              "    <tr>\n",
              "      <th>3</th>\n",
              "      <td>1.50</td>\n",
              "      <td>-0.044557</td>\n",
              "      <td>0.93932</td>\n",
              "      <td>0.111750</td>\n",
              "      <td>4</td>\n",
              "      <td>-57.5</td>\n",
              "      <td>5.10820</td>\n",
              "      <td>925.75</td>\n",
              "      <td>1</td>\n",
              "      <td>d1p02</td>\n",
              "      <td>M</td>\n",
              "    </tr>\n",
              "    <tr>\n",
              "      <th>4</th>\n",
              "      <td>2.50</td>\n",
              "      <td>0.612070</td>\n",
              "      <td>0.89339</td>\n",
              "      <td>0.009122</td>\n",
              "      <td>4</td>\n",
              "      <td>-57.5</td>\n",
              "      <td>4.39490</td>\n",
              "      <td>920.75</td>\n",
              "      <td>1</td>\n",
              "      <td>d1p02</td>\n",
              "      <td>M</td>\n",
              "    </tr>\n",
              "  </tbody>\n",
              "</table>\n",
              "</div>"
            ],
            "text/plain": [
              "   Time  acc_front  acc_vert   acc_lat  ...  frequency  activity  person  gender\n",
              "0  0.00  -0.044557   0.93932  0.111750  ...     920.75         4   d1p02       M\n",
              "1  0.25  -0.044557   0.93932  0.111750  ...     920.25         4   d1p02       M\n",
              "2  0.75  -0.044557   0.93932  0.111750  ...     923.25         1   d1p02       M\n",
              "3  1.50  -0.044557   0.93932  0.111750  ...     925.75         1   d1p02       M\n",
              "4  2.50   0.612070   0.89339  0.009122  ...     920.75         1   d1p02       M\n",
              "\n",
              "[5 rows x 11 columns]"
            ]
          },
          "metadata": {
            "tags": []
          },
          "execution_count": 6
        }
      ]
    },
    {
      "cell_type": "markdown",
      "metadata": {
        "id": "TtVqJqGWMZCs"
      },
      "source": [
        "Appending the dataframes into one dataframe finally :)\n",
        "\n",
        "a nice walkthrough here: https://www.geeksforgeeks.org/python-pandas-dataframe-append/"
      ]
    },
    {
      "cell_type": "code",
      "metadata": {
        "colab": {
          "base_uri": "https://localhost:8080/",
          "height": 419
        },
        "id": "VzWBdJR0MhIK",
        "outputId": "ae04b522-b296-443d-e78e-6fc8208e7e77"
      },
      "source": [
        "activity_df = activity_df_f.append(activity_df_m, ignore_index=True)\n",
        "activity_df"
      ],
      "execution_count": 7,
      "outputs": [
        {
          "output_type": "execute_result",
          "data": {
            "text/html": [
              "<div>\n",
              "<style scoped>\n",
              "    .dataframe tbody tr th:only-of-type {\n",
              "        vertical-align: middle;\n",
              "    }\n",
              "\n",
              "    .dataframe tbody tr th {\n",
              "        vertical-align: top;\n",
              "    }\n",
              "\n",
              "    .dataframe thead th {\n",
              "        text-align: right;\n",
              "    }\n",
              "</style>\n",
              "<table border=\"1\" class=\"dataframe\">\n",
              "  <thead>\n",
              "    <tr style=\"text-align: right;\">\n",
              "      <th></th>\n",
              "      <th>Time</th>\n",
              "      <th>acc_front</th>\n",
              "      <th>acc_vert</th>\n",
              "      <th>acc_lat</th>\n",
              "      <th>antenna_id</th>\n",
              "      <th>rssi</th>\n",
              "      <th>phase</th>\n",
              "      <th>frequency</th>\n",
              "      <th>activity</th>\n",
              "      <th>person</th>\n",
              "      <th>gender</th>\n",
              "    </tr>\n",
              "  </thead>\n",
              "  <tbody>\n",
              "    <tr>\n",
              "      <th>0</th>\n",
              "      <td>0.00</td>\n",
              "      <td>0.51826</td>\n",
              "      <td>0.89339</td>\n",
              "      <td>0.134560</td>\n",
              "      <td>4</td>\n",
              "      <td>-56.5</td>\n",
              "      <td>5.83680</td>\n",
              "      <td>921.75</td>\n",
              "      <td>1</td>\n",
              "      <td>d1p08</td>\n",
              "      <td>F</td>\n",
              "    </tr>\n",
              "    <tr>\n",
              "      <th>1</th>\n",
              "      <td>0.25</td>\n",
              "      <td>0.51826</td>\n",
              "      <td>0.89339</td>\n",
              "      <td>0.134560</td>\n",
              "      <td>3</td>\n",
              "      <td>-68.0</td>\n",
              "      <td>4.84120</td>\n",
              "      <td>925.75</td>\n",
              "      <td>1</td>\n",
              "      <td>d1p08</td>\n",
              "      <td>F</td>\n",
              "    </tr>\n",
              "    <tr>\n",
              "      <th>2</th>\n",
              "      <td>0.75</td>\n",
              "      <td>0.51826</td>\n",
              "      <td>0.89339</td>\n",
              "      <td>0.134560</td>\n",
              "      <td>4</td>\n",
              "      <td>-55.5</td>\n",
              "      <td>3.64170</td>\n",
              "      <td>924.25</td>\n",
              "      <td>1</td>\n",
              "      <td>d1p08</td>\n",
              "      <td>F</td>\n",
              "    </tr>\n",
              "    <tr>\n",
              "      <th>3</th>\n",
              "      <td>1.25</td>\n",
              "      <td>0.51826</td>\n",
              "      <td>0.89339</td>\n",
              "      <td>0.134560</td>\n",
              "      <td>3</td>\n",
              "      <td>-57.5</td>\n",
              "      <td>1.77790</td>\n",
              "      <td>924.75</td>\n",
              "      <td>1</td>\n",
              "      <td>d1p08</td>\n",
              "      <td>F</td>\n",
              "    </tr>\n",
              "    <tr>\n",
              "      <th>4</th>\n",
              "      <td>1.75</td>\n",
              "      <td>0.51826</td>\n",
              "      <td>0.89339</td>\n",
              "      <td>0.134560</td>\n",
              "      <td>4</td>\n",
              "      <td>-61.5</td>\n",
              "      <td>0.24083</td>\n",
              "      <td>922.75</td>\n",
              "      <td>1</td>\n",
              "      <td>d1p08</td>\n",
              "      <td>F</td>\n",
              "    </tr>\n",
              "    <tr>\n",
              "      <th>...</th>\n",
              "      <td>...</td>\n",
              "      <td>...</td>\n",
              "      <td>...</td>\n",
              "      <td>...</td>\n",
              "      <td>...</td>\n",
              "      <td>...</td>\n",
              "      <td>...</td>\n",
              "      <td>...</td>\n",
              "      <td>...</td>\n",
              "      <td>...</td>\n",
              "      <td>...</td>\n",
              "    </tr>\n",
              "    <tr>\n",
              "      <th>75123</th>\n",
              "      <td>938.25</td>\n",
              "      <td>0.88175</td>\n",
              "      <td>0.75559</td>\n",
              "      <td>0.145960</td>\n",
              "      <td>1</td>\n",
              "      <td>-64.0</td>\n",
              "      <td>4.85810</td>\n",
              "      <td>925.25</td>\n",
              "      <td>2</td>\n",
              "      <td>d2p21</td>\n",
              "      <td>M</td>\n",
              "    </tr>\n",
              "    <tr>\n",
              "      <th>75124</th>\n",
              "      <td>950.00</td>\n",
              "      <td>0.83485</td>\n",
              "      <td>0.77856</td>\n",
              "      <td>0.123150</td>\n",
              "      <td>1</td>\n",
              "      <td>-62.5</td>\n",
              "      <td>2.25340</td>\n",
              "      <td>923.75</td>\n",
              "      <td>2</td>\n",
              "      <td>d2p21</td>\n",
              "      <td>M</td>\n",
              "    </tr>\n",
              "    <tr>\n",
              "      <th>75125</th>\n",
              "      <td>959.50</td>\n",
              "      <td>0.83485</td>\n",
              "      <td>0.77856</td>\n",
              "      <td>0.123150</td>\n",
              "      <td>1</td>\n",
              "      <td>-60.0</td>\n",
              "      <td>1.40970</td>\n",
              "      <td>920.25</td>\n",
              "      <td>2</td>\n",
              "      <td>d2p21</td>\n",
              "      <td>M</td>\n",
              "    </tr>\n",
              "    <tr>\n",
              "      <th>75126</th>\n",
              "      <td>964.50</td>\n",
              "      <td>0.83485</td>\n",
              "      <td>0.77856</td>\n",
              "      <td>0.123150</td>\n",
              "      <td>1</td>\n",
              "      <td>-59.5</td>\n",
              "      <td>1.34380</td>\n",
              "      <td>920.25</td>\n",
              "      <td>2</td>\n",
              "      <td>d2p21</td>\n",
              "      <td>M</td>\n",
              "    </tr>\n",
              "    <tr>\n",
              "      <th>75127</th>\n",
              "      <td>981.75</td>\n",
              "      <td>0.78795</td>\n",
              "      <td>0.79004</td>\n",
              "      <td>0.088944</td>\n",
              "      <td>1</td>\n",
              "      <td>-60.0</td>\n",
              "      <td>1.21950</td>\n",
              "      <td>920.25</td>\n",
              "      <td>2</td>\n",
              "      <td>d2p21</td>\n",
              "      <td>M</td>\n",
              "    </tr>\n",
              "  </tbody>\n",
              "</table>\n",
              "<p>75128 rows × 11 columns</p>\n",
              "</div>"
            ],
            "text/plain": [
              "         Time  acc_front  acc_vert   acc_lat  ...  frequency  activity  person  gender\n",
              "0        0.00    0.51826   0.89339  0.134560  ...     921.75         1   d1p08       F\n",
              "1        0.25    0.51826   0.89339  0.134560  ...     925.75         1   d1p08       F\n",
              "2        0.75    0.51826   0.89339  0.134560  ...     924.25         1   d1p08       F\n",
              "3        1.25    0.51826   0.89339  0.134560  ...     924.75         1   d1p08       F\n",
              "4        1.75    0.51826   0.89339  0.134560  ...     922.75         1   d1p08       F\n",
              "...       ...        ...       ...       ...  ...        ...       ...     ...     ...\n",
              "75123  938.25    0.88175   0.75559  0.145960  ...     925.25         2   d2p21       M\n",
              "75124  950.00    0.83485   0.77856  0.123150  ...     923.75         2   d2p21       M\n",
              "75125  959.50    0.83485   0.77856  0.123150  ...     920.25         2   d2p21       M\n",
              "75126  964.50    0.83485   0.77856  0.123150  ...     920.25         2   d2p21       M\n",
              "75127  981.75    0.78795   0.79004  0.088944  ...     920.25         2   d2p21       M\n",
              "\n",
              "[75128 rows x 11 columns]"
            ]
          },
          "metadata": {
            "tags": []
          },
          "execution_count": 7
        }
      ]
    },
    {
      "cell_type": "markdown",
      "metadata": {
        "id": "bYVZPpCQNEeP"
      },
      "source": [
        "I now have one full dataset with 75128 rows (matches the number of rows on the UCI Learning Repository link) and 10 columns after adding the gender column to the original dataset."
      ]
    },
    {
      "cell_type": "markdown",
      "metadata": {
        "id": "gymcxxaxwV2F"
      },
      "source": [
        "#Data cleaning and EDA"
      ]
    },
    {
      "cell_type": "code",
      "metadata": {
        "colab": {
          "base_uri": "https://localhost:8080/"
        },
        "id": "MWTHtTtIw3TE",
        "outputId": "99b58966-e4d1-4201-e466-b5c2e67b6d07"
      },
      "source": [
        "activity_df.info()"
      ],
      "execution_count": 8,
      "outputs": [
        {
          "output_type": "stream",
          "text": [
            "<class 'pandas.core.frame.DataFrame'>\n",
            "RangeIndex: 75128 entries, 0 to 75127\n",
            "Data columns (total 11 columns):\n",
            " #   Column      Non-Null Count  Dtype  \n",
            "---  ------      --------------  -----  \n",
            " 0   Time        75128 non-null  float64\n",
            " 1   acc_front   75128 non-null  float64\n",
            " 2   acc_vert    75128 non-null  float64\n",
            " 3   acc_lat     75128 non-null  float64\n",
            " 4   antenna_id  75128 non-null  int64  \n",
            " 5   rssi        75128 non-null  float64\n",
            " 6   phase       75128 non-null  float64\n",
            " 7   frequency   75128 non-null  float64\n",
            " 8   activity    75128 non-null  int64  \n",
            " 9   person      75128 non-null  object \n",
            " 10  gender      75128 non-null  object \n",
            "dtypes: float64(7), int64(2), object(2)\n",
            "memory usage: 6.3+ MB\n"
          ],
          "name": "stdout"
        }
      ]
    },
    {
      "cell_type": "code",
      "metadata": {
        "colab": {
          "base_uri": "https://localhost:8080/"
        },
        "id": "PSPFn7h1wZLd",
        "outputId": "f01a5a86-41fd-4cae-c870-d835c5717b5d"
      },
      "source": [
        "activity_df.isnull().sum()"
      ],
      "execution_count": 9,
      "outputs": [
        {
          "output_type": "execute_result",
          "data": {
            "text/plain": [
              "Time          0\n",
              "acc_front     0\n",
              "acc_vert      0\n",
              "acc_lat       0\n",
              "antenna_id    0\n",
              "rssi          0\n",
              "phase         0\n",
              "frequency     0\n",
              "activity      0\n",
              "person        0\n",
              "gender        0\n",
              "dtype: int64"
            ]
          },
          "metadata": {
            "tags": []
          },
          "execution_count": 9
        }
      ]
    },
    {
      "cell_type": "code",
      "metadata": {
        "colab": {
          "base_uri": "https://localhost:8080/",
          "height": 1000
        },
        "id": "HlcSRWeexC0L",
        "outputId": "5688ffa4-b4e0-44f7-a1cf-05280e6778f3"
      },
      "source": [
        "# I wanted to get an idea of the value counts over all columns to get a quick idea of the content\n",
        "# I found the following solution for that: https://blog.softhints.com/pandas-value_counts-multiple-columns/\n",
        "for col in activity_df.columns:\n",
        "    print('-' * 40 + col + '-' * 40 , end=' - ')\n",
        "    display(activity_df[col].value_counts().head(10))"
      ],
      "execution_count": 10,
      "outputs": [
        {
          "output_type": "stream",
          "text": [
            "----------------------------------------Time---------------------------------------- - "
          ],
          "name": "stdout"
        },
        {
          "output_type": "display_data",
          "data": {
            "text/plain": [
              "0.00     87\n",
              "7.25     39\n",
              "44.00    35\n",
              "10.75    34\n",
              "9.75     34\n",
              "9.00     34\n",
              "1.50     33\n",
              "9.25     33\n",
              "0.25     33\n",
              "1.25     32\n",
              "Name: Time, dtype: int64"
            ]
          },
          "metadata": {
            "tags": []
          }
        },
        {
          "output_type": "stream",
          "text": [
            "----------------------------------------acc_front---------------------------------------- - "
          ],
          "name": "stdout"
        },
        {
          "output_type": "display_data",
          "data": {
            "text/plain": [
              "1.11630    1676\n",
              "1.09280    1673\n",
              "1.13970    1642\n",
              "1.12800    1557\n",
              "1.15140    1439\n",
              "1.08110    1420\n",
              "1.10450    1373\n",
              "0.34238    1274\n",
              "0.30721    1273\n",
              "0.28376    1264\n",
              "Name: acc_front, dtype: int64"
            ]
          },
          "metadata": {
            "tags": []
          }
        },
        {
          "output_type": "stream",
          "text": [
            "----------------------------------------acc_vert---------------------------------------- - "
          ],
          "name": "stdout"
        },
        {
          "output_type": "display_data",
          "data": {
            "text/plain": [
              "-0.036746    1875\n",
              " 0.973770    1834\n",
              " 0.055119    1681\n",
              " 0.009187    1615\n",
              "-0.059712    1594\n",
              "-0.013780    1565\n",
              " 0.032153    1554\n",
              " 0.939320    1514\n",
              " 0.985260    1479\n",
              " 0.020670    1445\n",
              "Name: acc_vert, dtype: int64"
            ]
          },
          "metadata": {
            "tags": []
          }
        },
        {
          "output_type": "stream",
          "text": [
            "----------------------------------------acc_lat---------------------------------------- - "
          ],
          "name": "stdout"
        },
        {
          "output_type": "display_data",
          "data": {
            "text/plain": [
              "-0.036490    2792\n",
              "-0.093505    2569\n",
              "-0.025087    2562\n",
              "-0.047893    2525\n",
              "-0.070699    2484\n",
              "-0.104910    2412\n",
              "-0.013684    2371\n",
              "-0.059296    2335\n",
              "-0.002281    2290\n",
              "-0.082102    2249\n",
              "Name: acc_lat, dtype: int64"
            ]
          },
          "metadata": {
            "tags": []
          }
        },
        {
          "output_type": "stream",
          "text": [
            "----------------------------------------antenna_id---------------------------------------- - "
          ],
          "name": "stdout"
        },
        {
          "output_type": "display_data",
          "data": {
            "text/plain": [
              "3    24718\n",
              "1    22347\n",
              "4    14200\n",
              "2    13863\n",
              "Name: antenna_id, dtype: int64"
            ]
          },
          "metadata": {
            "tags": []
          }
        },
        {
          "output_type": "stream",
          "text": [
            "----------------------------------------rssi---------------------------------------- - "
          ],
          "name": "stdout"
        },
        {
          "output_type": "display_data",
          "data": {
            "text/plain": [
              "-56.5    5024\n",
              "-57.0    4980\n",
              "-57.5    4113\n",
              "-56.0    3544\n",
              "-58.0    3271\n",
              "-59.5    3023\n",
              "-58.5    3019\n",
              "-59.0    2914\n",
              "-60.0    2603\n",
              "-60.5    2352\n",
              "Name: rssi, dtype: int64"
            ]
          },
          "metadata": {
            "tags": []
          }
        },
        {
          "output_type": "stream",
          "text": [
            "----------------------------------------phase---------------------------------------- - "
          ],
          "name": "stdout"
        },
        {
          "output_type": "display_data",
          "data": {
            "text/plain": [
              "0.702560    87\n",
              "5.321400    87\n",
              "0.033748    87\n",
              "6.083800    85\n",
              "0.092039    85\n",
              "5.496300    85\n",
              "6.231000    83\n",
              "6.274000    82\n",
              "5.605200    82\n",
              "0.006136    80\n",
              "Name: phase, dtype: int64"
            ]
          },
          "metadata": {
            "tags": []
          }
        },
        {
          "output_type": "stream",
          "text": [
            "----------------------------------------frequency---------------------------------------- - "
          ],
          "name": "stdout"
        },
        {
          "output_type": "display_data",
          "data": {
            "text/plain": [
              "920.25    7878\n",
              "920.75    7727\n",
              "921.25    7607\n",
              "921.75    7158\n",
              "922.25    6941\n",
              "922.75    6513\n",
              "923.25    6188\n",
              "923.75    5838\n",
              "924.25    5515\n",
              "924.75    4968\n",
              "Name: frequency, dtype: int64"
            ]
          },
          "metadata": {
            "tags": []
          }
        },
        {
          "output_type": "stream",
          "text": [
            "----------------------------------------activity---------------------------------------- - "
          ],
          "name": "stdout"
        },
        {
          "output_type": "display_data",
          "data": {
            "text/plain": [
              "3    51520\n",
              "1    16406\n",
              "2     4911\n",
              "4     2291\n",
              "Name: activity, dtype: int64"
            ]
          },
          "metadata": {
            "tags": []
          }
        },
        {
          "output_type": "stream",
          "text": [
            "----------------------------------------person---------------------------------------- - "
          ],
          "name": "stdout"
        },
        {
          "output_type": "display_data",
          "data": {
            "text/plain": [
              "d1p50    4638\n",
              "d1p53    4563\n",
              "d1p45    3339\n",
              "d1p44    3139\n",
              "d1p51    3044\n",
              "d2p02    2992\n",
              "d1p49    2876\n",
              "d1p47    2818\n",
              "d1p46    2542\n",
              "d2p15    2529\n",
              "Name: person, dtype: int64"
            ]
          },
          "metadata": {
            "tags": []
          }
        },
        {
          "output_type": "stream",
          "text": [
            "----------------------------------------gender---------------------------------------- - "
          ],
          "name": "stdout"
        },
        {
          "output_type": "display_data",
          "data": {
            "text/plain": [
              "F    43828\n",
              "M    31300\n",
              "Name: gender, dtype: int64"
            ]
          },
          "metadata": {
            "tags": []
          }
        }
      ]
    },
    {
      "cell_type": "code",
      "metadata": {
        "colab": {
          "base_uri": "https://localhost:8080/",
          "height": 297
        },
        "id": "t4MZprbUwdnL",
        "outputId": "ebe5b90d-3a52-45fd-a68b-aa35cb8f444a"
      },
      "source": [
        "activity_df.describe()"
      ],
      "execution_count": 11,
      "outputs": [
        {
          "output_type": "execute_result",
          "data": {
            "text/html": [
              "<div>\n",
              "<style scoped>\n",
              "    .dataframe tbody tr th:only-of-type {\n",
              "        vertical-align: middle;\n",
              "    }\n",
              "\n",
              "    .dataframe tbody tr th {\n",
              "        vertical-align: top;\n",
              "    }\n",
              "\n",
              "    .dataframe thead th {\n",
              "        text-align: right;\n",
              "    }\n",
              "</style>\n",
              "<table border=\"1\" class=\"dataframe\">\n",
              "  <thead>\n",
              "    <tr style=\"text-align: right;\">\n",
              "      <th></th>\n",
              "      <th>Time</th>\n",
              "      <th>acc_front</th>\n",
              "      <th>acc_vert</th>\n",
              "      <th>acc_lat</th>\n",
              "      <th>antenna_id</th>\n",
              "      <th>rssi</th>\n",
              "      <th>phase</th>\n",
              "      <th>frequency</th>\n",
              "      <th>activity</th>\n",
              "    </tr>\n",
              "  </thead>\n",
              "  <tbody>\n",
              "    <tr>\n",
              "      <th>count</th>\n",
              "      <td>75128.000000</td>\n",
              "      <td>75128.000000</td>\n",
              "      <td>75128.000000</td>\n",
              "      <td>75128.000000</td>\n",
              "      <td>75128.000000</td>\n",
              "      <td>75128.000000</td>\n",
              "      <td>75128.000000</td>\n",
              "      <td>75128.000000</td>\n",
              "      <td>75128.000000</td>\n",
              "    </tr>\n",
              "    <tr>\n",
              "      <th>mean</th>\n",
              "      <td>299.080416</td>\n",
              "      <td>0.714211</td>\n",
              "      <td>0.345199</td>\n",
              "      <td>-0.217477</td>\n",
              "      <td>2.409581</td>\n",
              "      <td>-58.277253</td>\n",
              "      <td>3.157279</td>\n",
              "      <td>922.670536</td>\n",
              "      <td>2.528378</td>\n",
              "    </tr>\n",
              "    <tr>\n",
              "      <th>std</th>\n",
              "      <td>257.503002</td>\n",
              "      <td>0.404585</td>\n",
              "      <td>0.419041</td>\n",
              "      <td>0.438219</td>\n",
              "      <td>1.102165</td>\n",
              "      <td>5.174083</td>\n",
              "      <td>2.182257</td>\n",
              "      <td>1.679093</td>\n",
              "      <td>0.864258</td>\n",
              "    </tr>\n",
              "    <tr>\n",
              "      <th>min</th>\n",
              "      <td>0.000000</td>\n",
              "      <td>-0.748080</td>\n",
              "      <td>-0.553490</td>\n",
              "      <td>-1.336400</td>\n",
              "      <td>1.000000</td>\n",
              "      <td>-72.000000</td>\n",
              "      <td>0.000000</td>\n",
              "      <td>920.250000</td>\n",
              "      <td>1.000000</td>\n",
              "    </tr>\n",
              "    <tr>\n",
              "      <th>25%</th>\n",
              "      <td>121.250000</td>\n",
              "      <td>0.342380</td>\n",
              "      <td>-0.002297</td>\n",
              "      <td>-0.184730</td>\n",
              "      <td>1.000000</td>\n",
              "      <td>-62.000000</td>\n",
              "      <td>1.032400</td>\n",
              "      <td>921.250000</td>\n",
              "      <td>2.000000</td>\n",
              "    </tr>\n",
              "    <tr>\n",
              "      <th>50%</th>\n",
              "      <td>250.715000</td>\n",
              "      <td>0.682420</td>\n",
              "      <td>0.215880</td>\n",
              "      <td>-0.070699</td>\n",
              "      <td>3.000000</td>\n",
              "      <td>-58.000000</td>\n",
              "      <td>2.767300</td>\n",
              "      <td>922.750000</td>\n",
              "      <td>3.000000</td>\n",
              "    </tr>\n",
              "    <tr>\n",
              "      <th>75%</th>\n",
              "      <td>402.500000</td>\n",
              "      <td>1.104500</td>\n",
              "      <td>0.858940</td>\n",
              "      <td>0.031928</td>\n",
              "      <td>3.000000</td>\n",
              "      <td>-56.000000</td>\n",
              "      <td>5.358575</td>\n",
              "      <td>924.250000</td>\n",
              "      <td>3.000000</td>\n",
              "    </tr>\n",
              "    <tr>\n",
              "      <th>max</th>\n",
              "      <td>1739.400000</td>\n",
              "      <td>1.503200</td>\n",
              "      <td>2.030200</td>\n",
              "      <td>1.217800</td>\n",
              "      <td>4.000000</td>\n",
              "      <td>-38.500000</td>\n",
              "      <td>6.281700</td>\n",
              "      <td>925.750000</td>\n",
              "      <td>4.000000</td>\n",
              "    </tr>\n",
              "  </tbody>\n",
              "</table>\n",
              "</div>"
            ],
            "text/plain": [
              "               Time     acc_front  ...     frequency      activity\n",
              "count  75128.000000  75128.000000  ...  75128.000000  75128.000000\n",
              "mean     299.080416      0.714211  ...    922.670536      2.528378\n",
              "std      257.503002      0.404585  ...      1.679093      0.864258\n",
              "min        0.000000     -0.748080  ...    920.250000      1.000000\n",
              "25%      121.250000      0.342380  ...    921.250000      2.000000\n",
              "50%      250.715000      0.682420  ...    922.750000      3.000000\n",
              "75%      402.500000      1.104500  ...    924.250000      3.000000\n",
              "max     1739.400000      1.503200  ...    925.750000      4.000000\n",
              "\n",
              "[8 rows x 9 columns]"
            ]
          },
          "metadata": {
            "tags": []
          },
          "execution_count": 11
        }
      ]
    },
    {
      "cell_type": "markdown",
      "metadata": {
        "id": "pzZiTMBoloui"
      },
      "source": [
        "**Cleaning the Zero Time activity**"
      ]
    },
    {
      "cell_type": "code",
      "metadata": {
        "colab": {
          "base_uri": "https://localhost:8080/",
          "height": 419
        },
        "id": "hgcSU3YhMWHs",
        "outputId": "892cb0f7-d385-4ad2-f6da-b0f3e465d3ad"
      },
      "source": [
        "# 0 Time values concerns me:\n",
        "zero_time = activity_df['Time']== 0\n",
        "activity_df.loc[zero_time, :]"
      ],
      "execution_count": 12,
      "outputs": [
        {
          "output_type": "execute_result",
          "data": {
            "text/html": [
              "<div>\n",
              "<style scoped>\n",
              "    .dataframe tbody tr th:only-of-type {\n",
              "        vertical-align: middle;\n",
              "    }\n",
              "\n",
              "    .dataframe tbody tr th {\n",
              "        vertical-align: top;\n",
              "    }\n",
              "\n",
              "    .dataframe thead th {\n",
              "        text-align: right;\n",
              "    }\n",
              "</style>\n",
              "<table border=\"1\" class=\"dataframe\">\n",
              "  <thead>\n",
              "    <tr style=\"text-align: right;\">\n",
              "      <th></th>\n",
              "      <th>Time</th>\n",
              "      <th>acc_front</th>\n",
              "      <th>acc_vert</th>\n",
              "      <th>acc_lat</th>\n",
              "      <th>antenna_id</th>\n",
              "      <th>rssi</th>\n",
              "      <th>phase</th>\n",
              "      <th>frequency</th>\n",
              "      <th>activity</th>\n",
              "      <th>person</th>\n",
              "      <th>gender</th>\n",
              "    </tr>\n",
              "  </thead>\n",
              "  <tbody>\n",
              "    <tr>\n",
              "      <th>0</th>\n",
              "      <td>0.0</td>\n",
              "      <td>0.51826</td>\n",
              "      <td>0.89339</td>\n",
              "      <td>0.134560</td>\n",
              "      <td>4</td>\n",
              "      <td>-56.5</td>\n",
              "      <td>5.83680</td>\n",
              "      <td>921.75</td>\n",
              "      <td>1</td>\n",
              "      <td>d1p08</td>\n",
              "      <td>F</td>\n",
              "    </tr>\n",
              "    <tr>\n",
              "      <th>92</th>\n",
              "      <td>0.0</td>\n",
              "      <td>0.58862</td>\n",
              "      <td>0.88191</td>\n",
              "      <td>0.100350</td>\n",
              "      <td>4</td>\n",
              "      <td>-56.5</td>\n",
              "      <td>5.46100</td>\n",
              "      <td>923.75</td>\n",
              "      <td>1</td>\n",
              "      <td>d1p09</td>\n",
              "      <td>F</td>\n",
              "    </tr>\n",
              "    <tr>\n",
              "      <th>281</th>\n",
              "      <td>0.0</td>\n",
              "      <td>0.60034</td>\n",
              "      <td>0.83597</td>\n",
              "      <td>0.123150</td>\n",
              "      <td>4</td>\n",
              "      <td>-56.0</td>\n",
              "      <td>5.79840</td>\n",
              "      <td>925.75</td>\n",
              "      <td>1</td>\n",
              "      <td>d1p10</td>\n",
              "      <td>F</td>\n",
              "    </tr>\n",
              "    <tr>\n",
              "      <th>342</th>\n",
              "      <td>0.0</td>\n",
              "      <td>0.88175</td>\n",
              "      <td>0.74411</td>\n",
              "      <td>0.191570</td>\n",
              "      <td>4</td>\n",
              "      <td>-57.5</td>\n",
              "      <td>5.93500</td>\n",
              "      <td>923.25</td>\n",
              "      <td>1</td>\n",
              "      <td>d1p11</td>\n",
              "      <td>F</td>\n",
              "    </tr>\n",
              "    <tr>\n",
              "      <th>531</th>\n",
              "      <td>0.0</td>\n",
              "      <td>0.10787</td>\n",
              "      <td>0.90487</td>\n",
              "      <td>-0.082102</td>\n",
              "      <td>1</td>\n",
              "      <td>-44.5</td>\n",
              "      <td>4.62500</td>\n",
              "      <td>922.25</td>\n",
              "      <td>4</td>\n",
              "      <td>d1p15</td>\n",
              "      <td>F</td>\n",
              "    </tr>\n",
              "    <tr>\n",
              "      <th>...</th>\n",
              "      <td>...</td>\n",
              "      <td>...</td>\n",
              "      <td>...</td>\n",
              "      <td>...</td>\n",
              "      <td>...</td>\n",
              "      <td>...</td>\n",
              "      <td>...</td>\n",
              "      <td>...</td>\n",
              "      <td>...</td>\n",
              "      <td>...</td>\n",
              "      <td>...</td>\n",
              "    </tr>\n",
              "    <tr>\n",
              "      <th>71119</th>\n",
              "      <td>0.0</td>\n",
              "      <td>0.13132</td>\n",
              "      <td>1.01970</td>\n",
              "      <td>0.157360</td>\n",
              "      <td>3</td>\n",
              "      <td>-59.5</td>\n",
              "      <td>4.08500</td>\n",
              "      <td>922.25</td>\n",
              "      <td>4</td>\n",
              "      <td>d2p18</td>\n",
              "      <td>M</td>\n",
              "    </tr>\n",
              "    <tr>\n",
              "      <th>71653</th>\n",
              "      <td>0.0</td>\n",
              "      <td>0.35411</td>\n",
              "      <td>0.95081</td>\n",
              "      <td>0.009122</td>\n",
              "      <td>2</td>\n",
              "      <td>-65.0</td>\n",
              "      <td>5.69410</td>\n",
              "      <td>923.75</td>\n",
              "      <td>4</td>\n",
              "      <td>d2p19</td>\n",
              "      <td>M</td>\n",
              "    </tr>\n",
              "    <tr>\n",
              "      <th>72223</th>\n",
              "      <td>0.0</td>\n",
              "      <td>0.43619</td>\n",
              "      <td>0.90487</td>\n",
              "      <td>-0.355770</td>\n",
              "      <td>3</td>\n",
              "      <td>-59.0</td>\n",
              "      <td>2.28410</td>\n",
              "      <td>921.25</td>\n",
              "      <td>1</td>\n",
              "      <td>d2p22</td>\n",
              "      <td>M</td>\n",
              "    </tr>\n",
              "    <tr>\n",
              "      <th>72960</th>\n",
              "      <td>0.0</td>\n",
              "      <td>0.49481</td>\n",
              "      <td>0.90487</td>\n",
              "      <td>0.123150</td>\n",
              "      <td>3</td>\n",
              "      <td>-60.5</td>\n",
              "      <td>2.40990</td>\n",
              "      <td>925.25</td>\n",
              "      <td>4</td>\n",
              "      <td>d2p20</td>\n",
              "      <td>M</td>\n",
              "    </tr>\n",
              "    <tr>\n",
              "      <th>74026</th>\n",
              "      <td>0.0</td>\n",
              "      <td>0.23685</td>\n",
              "      <td>0.91636</td>\n",
              "      <td>0.111750</td>\n",
              "      <td>3</td>\n",
              "      <td>-54.5</td>\n",
              "      <td>0.99862</td>\n",
              "      <td>920.75</td>\n",
              "      <td>4</td>\n",
              "      <td>d2p21</td>\n",
              "      <td>M</td>\n",
              "    </tr>\n",
              "  </tbody>\n",
              "</table>\n",
              "<p>87 rows × 11 columns</p>\n",
              "</div>"
            ],
            "text/plain": [
              "       Time  acc_front  acc_vert   acc_lat  ...  frequency  activity  person  gender\n",
              "0       0.0    0.51826   0.89339  0.134560  ...     921.75         1   d1p08       F\n",
              "92      0.0    0.58862   0.88191  0.100350  ...     923.75         1   d1p09       F\n",
              "281     0.0    0.60034   0.83597  0.123150  ...     925.75         1   d1p10       F\n",
              "342     0.0    0.88175   0.74411  0.191570  ...     923.25         1   d1p11       F\n",
              "531     0.0    0.10787   0.90487 -0.082102  ...     922.25         4   d1p15       F\n",
              "...     ...        ...       ...       ...  ...        ...       ...     ...     ...\n",
              "71119   0.0    0.13132   1.01970  0.157360  ...     922.25         4   d2p18       M\n",
              "71653   0.0    0.35411   0.95081  0.009122  ...     923.75         4   d2p19       M\n",
              "72223   0.0    0.43619   0.90487 -0.355770  ...     921.25         1   d2p22       M\n",
              "72960   0.0    0.49481   0.90487  0.123150  ...     925.25         4   d2p20       M\n",
              "74026   0.0    0.23685   0.91636  0.111750  ...     920.75         4   d2p21       M\n",
              "\n",
              "[87 rows x 11 columns]"
            ]
          },
          "metadata": {
            "tags": []
          },
          "execution_count": 12
        }
      ]
    },
    {
      "cell_type": "markdown",
      "metadata": {
        "id": "X4dcX8nSsD_1"
      },
      "source": [
        "Looping in the 0 time values and getting the mean time for the same person and same activity."
      ]
    },
    {
      "cell_type": "code",
      "metadata": {
        "colab": {
          "base_uri": "https://localhost:8080/"
        },
        "id": "uVQW9ZhDq5bT",
        "outputId": "30f2c9e4-02f9-4d3e-a479-0d241bc5a6e6"
      },
      "source": [
        "def get_person_activity_mean_time(person, activity):\n",
        "  return round(activity_df.loc[(activity_df['person']== person) & (activity_df['activity'] == activity), 'Time'].mean(), 2)\n",
        "get_person_activity_mean_time('d1p08', 1)"
      ],
      "execution_count": 13,
      "outputs": [
        {
          "output_type": "execute_result",
          "data": {
            "text/plain": [
              "40.33"
            ]
          },
          "metadata": {
            "tags": []
          },
          "execution_count": 13
        }
      ]
    },
    {
      "cell_type": "code",
      "metadata": {
        "colab": {
          "base_uri": "https://localhost:8080/",
          "height": 111
        },
        "id": "NWT4Ppvmv778",
        "outputId": "a9d70b48-7171-476b-9ec6-424983ee8cd4"
      },
      "source": [
        "#looping in the rows and for each zero time and call the above method to get the mean time for the same person and same activity\n",
        "for index, row in activity_df.iterrows():\n",
        "  if (row['Time'] == 0.0):\n",
        "    try:\n",
        "      activity_df.loc[index:index, ('Time')] = get_person_activity_mean_time(row['person'], row['activity'])\n",
        "    except ValueError:\n",
        "      pass\n",
        "activity_df.loc[activity_df['Time']== 0, :]"
      ],
      "execution_count": 14,
      "outputs": [
        {
          "output_type": "execute_result",
          "data": {
            "text/html": [
              "<div>\n",
              "<style scoped>\n",
              "    .dataframe tbody tr th:only-of-type {\n",
              "        vertical-align: middle;\n",
              "    }\n",
              "\n",
              "    .dataframe tbody tr th {\n",
              "        vertical-align: top;\n",
              "    }\n",
              "\n",
              "    .dataframe thead th {\n",
              "        text-align: right;\n",
              "    }\n",
              "</style>\n",
              "<table border=\"1\" class=\"dataframe\">\n",
              "  <thead>\n",
              "    <tr style=\"text-align: right;\">\n",
              "      <th></th>\n",
              "      <th>Time</th>\n",
              "      <th>acc_front</th>\n",
              "      <th>acc_vert</th>\n",
              "      <th>acc_lat</th>\n",
              "      <th>antenna_id</th>\n",
              "      <th>rssi</th>\n",
              "      <th>phase</th>\n",
              "      <th>frequency</th>\n",
              "      <th>activity</th>\n",
              "      <th>person</th>\n",
              "      <th>gender</th>\n",
              "    </tr>\n",
              "  </thead>\n",
              "  <tbody>\n",
              "    <tr>\n",
              "      <th>2310</th>\n",
              "      <td>0.0</td>\n",
              "      <td>-0.27906</td>\n",
              "      <td>0.89339</td>\n",
              "      <td>0.18017</td>\n",
              "      <td>2</td>\n",
              "      <td>-48.0</td>\n",
              "      <td>1.6705</td>\n",
              "      <td>922.75</td>\n",
              "      <td>4</td>\n",
              "      <td>d1p31</td>\n",
              "      <td>F</td>\n",
              "    </tr>\n",
              "    <tr>\n",
              "      <th>71119</th>\n",
              "      <td>0.0</td>\n",
              "      <td>0.13132</td>\n",
              "      <td>1.01970</td>\n",
              "      <td>0.15736</td>\n",
              "      <td>3</td>\n",
              "      <td>-59.5</td>\n",
              "      <td>4.0850</td>\n",
              "      <td>922.25</td>\n",
              "      <td>4</td>\n",
              "      <td>d2p18</td>\n",
              "      <td>M</td>\n",
              "    </tr>\n",
              "  </tbody>\n",
              "</table>\n",
              "</div>"
            ],
            "text/plain": [
              "       Time  acc_front  acc_vert  acc_lat  ...  frequency  activity  person  gender\n",
              "2310    0.0   -0.27906   0.89339  0.18017  ...     922.75         4   d1p31       F\n",
              "71119   0.0    0.13132   1.01970  0.15736  ...     922.25         4   d2p18       M\n",
              "\n",
              "[2 rows x 11 columns]"
            ]
          },
          "metadata": {
            "tags": []
          },
          "execution_count": 14
        }
      ]
    },
    {
      "cell_type": "markdown",
      "metadata": {
        "id": "Y2KyMIu41Xxf"
      },
      "source": [
        "Now we only have two activities with 0.0 seconds. That tells me there is only 1 occurance for the activity on this person. I am OK with removing those 2 rows from the dataframe as it seems like it detected the wrong activity."
      ]
    },
    {
      "cell_type": "code",
      "metadata": {
        "colab": {
          "base_uri": "https://localhost:8080/"
        },
        "id": "zZdnZeDN15Qc",
        "outputId": "086018cc-a283-4ec0-a762-b231c23e9816"
      },
      "source": [
        "activity_df.drop(activity_df[activity_df['Time']== 0].index, inplace= True)\n",
        "activity_df.shape"
      ],
      "execution_count": 15,
      "outputs": [
        {
          "output_type": "execute_result",
          "data": {
            "text/plain": [
              "(75126, 11)"
            ]
          },
          "metadata": {
            "tags": []
          },
          "execution_count": 15
        }
      ]
    },
    {
      "cell_type": "markdown",
      "metadata": {
        "id": "IxXddMHjxYFs"
      },
      "source": [
        "#Visualization\n",
        "\n",
        "looking for obvious trends around the target"
      ]
    },
    {
      "cell_type": "code",
      "metadata": {
        "colab": {
          "base_uri": "https://localhost:8080/",
          "height": 1000
        },
        "id": "rNtHpJlYxeVs",
        "outputId": "399ec0a7-6c5e-49e8-9371-3fc1485e0cb6"
      },
      "source": [
        "# I decided to create an array of columns/potential-factors and loop through them,\n",
        "# instead of created a code block from each column/factor\n",
        "vis_columns = ['gender', 'antenna_id', 'person', 'Time']\n",
        "for i,v in enumerate(vis_columns):\n",
        "  activity_df.groupby([v,'activity'])['activity'].count().unstack().plot(kind='bar')"
      ],
      "execution_count": 16,
      "outputs": [
        {
          "output_type": "display_data",
          "data": {
            "image/png": "[encoded data removed]",
            "text/plain": [
              "<Figure size 432x288 with 1 Axes>"
            ]
          },
          "metadata": {
            "tags": [],
            "needs_background": "light"
          }
        },
        {
          "output_type": "display_data",
          "data": {
            "image/png": "[encoded data removed]",
            "text/plain": [
              "<Figure size 432x288 with 1 Axes>"
            ]
          },
          "metadata": {
            "tags": [],
            "needs_background": "light"
          }
        },
        {
          "output_type": "display_data",
          "data": {
            "image/png": "[encoded data removed]",
            "text/plain": [
              "<Figure size 432x288 with 1 Axes>"
            ]
          },
          "metadata": {
            "tags": [],
            "needs_background": "light"
          }
        },
        {
          "output_type": "display_data",
          "data": {
            "image/png": "[encoded data removed]",
            "text/plain": [
              "<Figure size 432x288 with 1 Axes>"
            ]
          },
          "metadata": {
            "tags": [],
            "needs_background": "light"
          }
        }
      ]
    },
    {
      "cell_type": "code",
      "metadata": {
        "colab": {
          "base_uri": "https://localhost:8080/",
          "height": 204
        },
        "id": "y7rQprlWLS8_",
        "outputId": "30eaaedb-71ff-400b-b91e-b814a1a0a746"
      },
      "source": [
        "#Gender is a nominal categorical column\n",
        "#mapping M to 0 and F to 1\n",
        "activity_df['gender']= activity_df['gender'].map({'M': 0, 'F': 1})\n",
        "activity_df.head()"
      ],
      "execution_count": 17,
      "outputs": [
        {
          "output_type": "execute_result",
          "data": {
            "text/html": [
              "<div>\n",
              "<style scoped>\n",
              "    .dataframe tbody tr th:only-of-type {\n",
              "        vertical-align: middle;\n",
              "    }\n",
              "\n",
              "    .dataframe tbody tr th {\n",
              "        vertical-align: top;\n",
              "    }\n",
              "\n",
              "    .dataframe thead th {\n",
              "        text-align: right;\n",
              "    }\n",
              "</style>\n",
              "<table border=\"1\" class=\"dataframe\">\n",
              "  <thead>\n",
              "    <tr style=\"text-align: right;\">\n",
              "      <th></th>\n",
              "      <th>Time</th>\n",
              "      <th>acc_front</th>\n",
              "      <th>acc_vert</th>\n",
              "      <th>acc_lat</th>\n",
              "      <th>antenna_id</th>\n",
              "      <th>rssi</th>\n",
              "      <th>phase</th>\n",
              "      <th>frequency</th>\n",
              "      <th>activity</th>\n",
              "      <th>person</th>\n",
              "      <th>gender</th>\n",
              "    </tr>\n",
              "  </thead>\n",
              "  <tbody>\n",
              "    <tr>\n",
              "      <th>0</th>\n",
              "      <td>40.33</td>\n",
              "      <td>0.51826</td>\n",
              "      <td>0.89339</td>\n",
              "      <td>0.13456</td>\n",
              "      <td>4</td>\n",
              "      <td>-56.5</td>\n",
              "      <td>5.83680</td>\n",
              "      <td>921.75</td>\n",
              "      <td>1</td>\n",
              "      <td>d1p08</td>\n",
              "      <td>1</td>\n",
              "    </tr>\n",
              "    <tr>\n",
              "      <th>1</th>\n",
              "      <td>0.25</td>\n",
              "      <td>0.51826</td>\n",
              "      <td>0.89339</td>\n",
              "      <td>0.13456</td>\n",
              "      <td>3</td>\n",
              "      <td>-68.0</td>\n",
              "      <td>4.84120</td>\n",
              "      <td>925.75</td>\n",
              "      <td>1</td>\n",
              "      <td>d1p08</td>\n",
              "      <td>1</td>\n",
              "    </tr>\n",
              "    <tr>\n",
              "      <th>2</th>\n",
              "      <td>0.75</td>\n",
              "      <td>0.51826</td>\n",
              "      <td>0.89339</td>\n",
              "      <td>0.13456</td>\n",
              "      <td>4</td>\n",
              "      <td>-55.5</td>\n",
              "      <td>3.64170</td>\n",
              "      <td>924.25</td>\n",
              "      <td>1</td>\n",
              "      <td>d1p08</td>\n",
              "      <td>1</td>\n",
              "    </tr>\n",
              "    <tr>\n",
              "      <th>3</th>\n",
              "      <td>1.25</td>\n",
              "      <td>0.51826</td>\n",
              "      <td>0.89339</td>\n",
              "      <td>0.13456</td>\n",
              "      <td>3</td>\n",
              "      <td>-57.5</td>\n",
              "      <td>1.77790</td>\n",
              "      <td>924.75</td>\n",
              "      <td>1</td>\n",
              "      <td>d1p08</td>\n",
              "      <td>1</td>\n",
              "    </tr>\n",
              "    <tr>\n",
              "      <th>4</th>\n",
              "      <td>1.75</td>\n",
              "      <td>0.51826</td>\n",
              "      <td>0.89339</td>\n",
              "      <td>0.13456</td>\n",
              "      <td>4</td>\n",
              "      <td>-61.5</td>\n",
              "      <td>0.24083</td>\n",
              "      <td>922.75</td>\n",
              "      <td>1</td>\n",
              "      <td>d1p08</td>\n",
              "      <td>1</td>\n",
              "    </tr>\n",
              "  </tbody>\n",
              "</table>\n",
              "</div>"
            ],
            "text/plain": [
              "    Time  acc_front  acc_vert  acc_lat  ...  frequency  activity  person  gender\n",
              "0  40.33    0.51826   0.89339  0.13456  ...     921.75         1   d1p08       1\n",
              "1   0.25    0.51826   0.89339  0.13456  ...     925.75         1   d1p08       1\n",
              "2   0.75    0.51826   0.89339  0.13456  ...     924.25         1   d1p08       1\n",
              "3   1.25    0.51826   0.89339  0.13456  ...     924.75         1   d1p08       1\n",
              "4   1.75    0.51826   0.89339  0.13456  ...     922.75         1   d1p08       1\n",
              "\n",
              "[5 rows x 11 columns]"
            ]
          },
          "metadata": {
            "tags": []
          },
          "execution_count": 17
        }
      ]
    },
    {
      "cell_type": "code",
      "metadata": {
        "colab": {
          "base_uri": "https://localhost:8080/",
          "height": 333
        },
        "id": "ZYdmcxpykp1n",
        "outputId": "2ae8fc4c-efdc-4460-e565-cdc3d81c03d9"
      },
      "source": [
        "sns.distplot(activity_df['Time']);"
      ],
      "execution_count": 18,
      "outputs": [
        {
          "output_type": "stream",
          "text": [
            "/usr/local/lib/python3.7/dist-packages/seaborn/distributions.py:2557: FutureWarning: `distplot` is a deprecated function and will be removed in a future version. Please adapt your code to use either `displot` (a figure-level function with similar flexibility) or `histplot` (an axes-level function for histograms).\n",
            "  warnings.warn(msg, FutureWarning)\n"
          ],
          "name": "stderr"
        },
        {
          "output_type": "display_data",
          "data": {
            "image/png": "[encoded data removed]",
            "text/plain": [
              "<Figure size 432x288 with 1 Axes>"
            ]
          },
          "metadata": {
            "tags": [],
            "needs_background": "light"
          }
        }
      ]
    },
    {
      "cell_type": "code",
      "metadata": {
        "colab": {
          "base_uri": "https://localhost:8080/",
          "height": 265
        },
        "id": "cki3TM-b34vM",
        "outputId": "103bae85-6856-4163-c328-e53af536fc98"
      },
      "source": [
        "plt.scatter(activity_df['activity'], activity_df['Time']);"
      ],
      "execution_count": 19,
      "outputs": [
        {
          "output_type": "display_data",
          "data": {
            "image/png": "[encoded data removed]",
            "text/plain": [
              "<Figure size 432x288 with 1 Axes>"
            ]
          },
          "metadata": {
            "tags": [],
            "needs_background": "light"
          }
        }
      ]
    },
    {
      "cell_type": "code",
      "metadata": {
        "colab": {
          "base_uri": "https://localhost:8080/",
          "height": 332
        },
        "id": "IZqCWvJmULBQ",
        "outputId": "9798bcc2-4c45-4455-caec-8d83bb9898bd"
      },
      "source": [
        "sns.heatmap(activity_df.corr(), cmap='Blues')"
      ],
      "execution_count": 20,
      "outputs": [
        {
          "output_type": "execute_result",
          "data": {
            "text/plain": [
              "<matplotlib.axes._subplots.AxesSubplot at 0x7f4deebcaf10>"
            ]
          },
          "metadata": {
            "tags": []
          },
          "execution_count": 20
        },
        {
          "output_type": "display_data",
          "data": {
            "image/png": "[encoded data removed]",
            "text/plain": [
              "<Figure size 432x288 with 2 Axes>"
            ]
          },
          "metadata": {
            "tags": [],
            "needs_background": "light"
          }
        }
      ]
    },
    {
      "cell_type": "markdown",
      "metadata": {
        "id": "Nw0ne-yf5u6G"
      },
      "source": [
        "#Supervised machine Learning - Multi Class Classification"
      ]
    },
    {
      "cell_type": "code",
      "metadata": {
        "colab": {
          "base_uri": "https://localhost:8080/",
          "height": 204
        },
        "id": "o2na1bVX57u1",
        "outputId": "3e561abd-d294-462a-a917-f686951983f8"
      },
      "source": [
        "activity_df.head()"
      ],
      "execution_count": 23,
      "outputs": [
        {
          "output_type": "execute_result",
          "data": {
            "text/html": [
              "<div>\n",
              "<style scoped>\n",
              "    .dataframe tbody tr th:only-of-type {\n",
              "        vertical-align: middle;\n",
              "    }\n",
              "\n",
              "    .dataframe tbody tr th {\n",
              "        vertical-align: top;\n",
              "    }\n",
              "\n",
              "    .dataframe thead th {\n",
              "        text-align: right;\n",
              "    }\n",
              "</style>\n",
              "<table border=\"1\" class=\"dataframe\">\n",
              "  <thead>\n",
              "    <tr style=\"text-align: right;\">\n",
              "      <th></th>\n",
              "      <th>Time</th>\n",
              "      <th>acc_front</th>\n",
              "      <th>acc_vert</th>\n",
              "      <th>acc_lat</th>\n",
              "      <th>antenna_id</th>\n",
              "      <th>rssi</th>\n",
              "      <th>phase</th>\n",
              "      <th>frequency</th>\n",
              "      <th>activity</th>\n",
              "      <th>person</th>\n",
              "      <th>gender</th>\n",
              "    </tr>\n",
              "  </thead>\n",
              "  <tbody>\n",
              "    <tr>\n",
              "      <th>0</th>\n",
              "      <td>40.33</td>\n",
              "      <td>0.51826</td>\n",
              "      <td>0.89339</td>\n",
              "      <td>0.13456</td>\n",
              "      <td>4</td>\n",
              "      <td>-56.5</td>\n",
              "      <td>5.83680</td>\n",
              "      <td>921.75</td>\n",
              "      <td>1</td>\n",
              "      <td>d1p08</td>\n",
              "      <td>1</td>\n",
              "    </tr>\n",
              "    <tr>\n",
              "      <th>1</th>\n",
              "      <td>0.25</td>\n",
              "      <td>0.51826</td>\n",
              "      <td>0.89339</td>\n",
              "      <td>0.13456</td>\n",
              "      <td>3</td>\n",
              "      <td>-68.0</td>\n",
              "      <td>4.84120</td>\n",
              "      <td>925.75</td>\n",
              "      <td>1</td>\n",
              "      <td>d1p08</td>\n",
              "      <td>1</td>\n",
              "    </tr>\n",
              "    <tr>\n",
              "      <th>2</th>\n",
              "      <td>0.75</td>\n",
              "      <td>0.51826</td>\n",
              "      <td>0.89339</td>\n",
              "      <td>0.13456</td>\n",
              "      <td>4</td>\n",
              "      <td>-55.5</td>\n",
              "      <td>3.64170</td>\n",
              "      <td>924.25</td>\n",
              "      <td>1</td>\n",
              "      <td>d1p08</td>\n",
              "      <td>1</td>\n",
              "    </tr>\n",
              "    <tr>\n",
              "      <th>3</th>\n",
              "      <td>1.25</td>\n",
              "      <td>0.51826</td>\n",
              "      <td>0.89339</td>\n",
              "      <td>0.13456</td>\n",
              "      <td>3</td>\n",
              "      <td>-57.5</td>\n",
              "      <td>1.77790</td>\n",
              "      <td>924.75</td>\n",
              "      <td>1</td>\n",
              "      <td>d1p08</td>\n",
              "      <td>1</td>\n",
              "    </tr>\n",
              "    <tr>\n",
              "      <th>4</th>\n",
              "      <td>1.75</td>\n",
              "      <td>0.51826</td>\n",
              "      <td>0.89339</td>\n",
              "      <td>0.13456</td>\n",
              "      <td>4</td>\n",
              "      <td>-61.5</td>\n",
              "      <td>0.24083</td>\n",
              "      <td>922.75</td>\n",
              "      <td>1</td>\n",
              "      <td>d1p08</td>\n",
              "      <td>1</td>\n",
              "    </tr>\n",
              "  </tbody>\n",
              "</table>\n",
              "</div>"
            ],
            "text/plain": [
              "    Time  acc_front  acc_vert  acc_lat  ...  frequency  activity  person  gender\n",
              "0  40.33    0.51826   0.89339  0.13456  ...     921.75         1   d1p08       1\n",
              "1   0.25    0.51826   0.89339  0.13456  ...     925.75         1   d1p08       1\n",
              "2   0.75    0.51826   0.89339  0.13456  ...     924.25         1   d1p08       1\n",
              "3   1.25    0.51826   0.89339  0.13456  ...     924.75         1   d1p08       1\n",
              "4   1.75    0.51826   0.89339  0.13456  ...     922.75         1   d1p08       1\n",
              "\n",
              "[5 rows x 11 columns]"
            ]
          },
          "metadata": {
            "tags": []
          },
          "execution_count": 23
        }
      ]
    },
    {
      "cell_type": "code",
      "metadata": {
        "colab": {
          "base_uri": "https://localhost:8080/"
        },
        "id": "6F6J_ScZ5LZR",
        "outputId": "12d8db0b-a589-4c85-f1e6-fa9db55e5516"
      },
      "source": [
        "#Save the data to X and target to y\n",
        "X = activity_df.drop(columns=['activity', 'person'])\n",
        "y = activity_df['activity']\n",
        "print(f'X shape: {X.shape}, y shape: {y.shape}')"
      ],
      "execution_count": 24,
      "outputs": [
        {
          "output_type": "stream",
          "text": [
            "X shape: (75126, 9), y shape: (75126,)\n"
          ],
          "name": "stdout"
        }
      ]
    },
    {
      "cell_type": "code",
      "metadata": {
        "id": "8q7iHoCK6VmM"
      },
      "source": [
        "# Train test split\n",
        "X_train, X_test, y_train, y_test = train_test_split(X, y, random_state=3)"
      ],
      "execution_count": 26,
      "outputs": []
    },
    {
      "cell_type": "markdown",
      "metadata": {
        "id": "vMGKr3E47ZWk"
      },
      "source": [
        "**Logistic Regression**"
      ]
    },
    {
      "cell_type": "code",
      "metadata": {
        "colab": {
          "base_uri": "https://localhost:8080/"
        },
        "id": "jrVVEDzA6-oA",
        "outputId": "03d143ab-527b-4669-adad-b20b424a4453"
      },
      "source": [
        "logreg = LogisticRegression(max_iter=70000)\n",
        "logreg.fit(X_train, y_train)\n",
        "print('Training accuracy:', logreg.score(X_train, y_train))\n",
        "print('Testing accuracy:', logreg.score(X_test, y_test))"
      ],
      "execution_count": 31,
      "outputs": [
        {
          "output_type": "stream",
          "text": [
            "Training accuracy: 0.9259725969047281\n",
            "Testing accuracy: 0.9252475774677883\n"
          ],
          "name": "stdout"
        }
      ]
    },
    {
      "cell_type": "markdown",
      "metadata": {
        "id": "-W0M17q87dZq"
      },
      "source": [
        "**Decision Tree**"
      ]
    },
    {
      "cell_type": "code",
      "metadata": {
        "colab": {
          "base_uri": "https://localhost:8080/"
        },
        "id": "uczZ_3d-7i2P",
        "outputId": "685f35c1-0900-4e90-bf93-e34dd140646d"
      },
      "source": [
        "dt = DecisionTreeClassifier()\n",
        "dt.fit(X_train, y_train)\n",
        "print('Training accuracy:', dt.score(X_train, y_train))\n",
        "print('Testing accuracy:', dt.score(X_test, y_test))"
      ],
      "execution_count": 28,
      "outputs": [
        {
          "output_type": "stream",
          "text": [
            "Training accuracy: 1.0\n",
            "Testing accuracy: 0.985943988925567\n"
          ],
          "name": "stdout"
        }
      ]
    },
    {
      "cell_type": "markdown",
      "metadata": {
        "id": "9_tgok2N7ool"
      },
      "source": [
        "**Random Forest**"
      ]
    },
    {
      "cell_type": "code",
      "metadata": {
        "colab": {
          "base_uri": "https://localhost:8080/"
        },
        "id": "f-TZ4mC77wHK",
        "outputId": "69f2cf19-03ea-4aca-c53a-941e4d13810e"
      },
      "source": [
        "rf = RandomForestClassifier()\n",
        "rf.fit(X_train, y_train)\n",
        "print('Training accuracy:', rf.score(X_train, y_train))\n",
        "print('Testing accuracy:', rf.score(X_test, y_test))"
      ],
      "execution_count": 29,
      "outputs": [
        {
          "output_type": "stream",
          "text": [
            "Training accuracy: 1.0\n",
            "Testing accuracy: 0.9905228410179959\n"
          ],
          "name": "stdout"
        }
      ]
    },
    {
      "cell_type": "markdown",
      "metadata": {
        "id": "SL_UiDbKAjA-"
      },
      "source": [
        "**Boosting**"
      ]
    },
    {
      "cell_type": "code",
      "metadata": {
        "colab": {
          "base_uri": "https://localhost:8080/"
        },
        "id": "P4jPlhZkAk20",
        "outputId": "afbdd52c-2c3b-4032-c740-6cf82ce1ab77"
      },
      "source": [
        "# Gradient Boosting\n",
        "gbc = GradientBoostingClassifier()\n",
        "gbc.fit(X_train, y_train)\n",
        "print('Training accuracy:', gbc.score(X_train, y_train))\n",
        "print('Testing accuracy:', gbc.score(X_test, y_test))"
      ],
      "execution_count": 33,
      "outputs": [
        {
          "output_type": "stream",
          "text": [
            "Training accuracy: 0.9818259264517961\n",
            "Testing accuracy: 0.9805664998402726\n"
          ],
          "name": "stdout"
        }
      ]
    },
    {
      "cell_type": "code",
      "metadata": {
        "colab": {
          "base_uri": "https://localhost:8080/"
        },
        "id": "8ve15e4mA4gC",
        "outputId": "e0f87478-5da8-4352-e433-464f30bccdfa"
      },
      "source": [
        "#LightGBM\n",
        "lgbm = LGBMClassifier()\n",
        "lgbm.fit(X_train, y_train)\n",
        "print('Training accuracy:', lgbm.score(X_train, y_train))\n",
        "print('Testing accuracy:', lgbm.score(X_test, y_test))"
      ],
      "execution_count": 34,
      "outputs": [
        {
          "output_type": "stream",
          "text": [
            "Training accuracy: 0.9964148800227176\n",
            "Testing accuracy: 0.9899371738898946\n"
          ],
          "name": "stdout"
        }
      ]
    },
    {
      "cell_type": "code",
      "metadata": {
        "colab": {
          "base_uri": "https://localhost:8080/"
        },
        "id": "pEKpUfp5A_jc",
        "outputId": "2adffa47-e9b8-4a59-dc6e-0209198202f8"
      },
      "source": [
        "#XGBoost\n",
        "xgb = XGBClassifier()\n",
        "xgb.fit(X_train, y_train)\n",
        "print('Training accuracy:', xgb.score(X_train, y_train))\n",
        "print('Testing accuracy:', xgb.score(X_test, y_test))"
      ],
      "execution_count": 35,
      "outputs": [
        {
          "output_type": "stream",
          "text": [
            "Training accuracy: 0.9774953854891382\n",
            "Testing accuracy: 0.9775849217335747\n"
          ],
          "name": "stdout"
        }
      ]
    },
    {
      "cell_type": "markdown",
      "metadata": {
        "id": "Gh0bZuT1Eqly"
      },
      "source": [
        "So far, it looks like Random Forest was the best model for this dataset."
      ]
    }
  ]
}