{
  "nbformat": 4,
  "nbformat_minor": 0,
  "metadata": {
    "colab": {
      "name": "ActivityRecognition.ipynb",
      "provenance": [],
      "collapsed_sections": []
    },
    "kernelspec": {
      "name": "python3",
      "display_name": "Python 3"
    },
    "language_info": {
      "name": "python"
    }
  },
  "cells": [
    {
      "cell_type": "markdown",
      "metadata": {
        "id": "AXHjRAuX8ZLe"
      },
      "source": [
        "The dataset is downloaded from UCI Learning Repository:https://archive.ics.uci.edu/ml/datasets/Activity+recognition+with+healthy+older+people+using+a+batteryless+wearable+sensor, "
      ]
    },
    {
      "cell_type": "markdown",
      "metadata": {
        "id": "1d2wO-Op8nQr"
      },
      "source": [
        "Data Set Information:\n",
        "\n",
        "This dataset contains the motion data of 14 healthy older aged between 66 and 86 years old, performed broadly scripted activities using a batteryless, wearable sensor on top of their clothing at sternum level. Data is sparse and noisy due to the use of a passive sensor.\n",
        "Participants were allocated in two clinical room settings (S1 and S2). The setting of S1 (Room1) uses 4 RFID reader antennas around the room (one on ceiling level, and 3 on wall level) for the collection of data, whereas the room setting S2 (Room2) uses 3 RFID reader antennas (two at ceiling level and one at wall level) for the collection of motion data.\n",
        "The activities performed were:\n",
        "walking to the chair,\n",
        "sitting on the chair,\n",
        "getting off the chair,\n",
        "walking to bed,\n",
        "lying on bed,\n",
        "getting off the bed and\n",
        "walking to the door.\n",
        "Hence the possible class labels assigned for every sensor observation are:\n",
        "- Sitting on bed\n",
        "- Sitting on chair\n",
        "- Lying on bed\n",
        "- Ambulating, where ambulating includes standing, walking around the room."
      ]
    },
    {
      "cell_type": "markdown",
      "metadata": {
        "id": "PGw_Yyr6_2gU"
      },
      "source": [
        "**Note on the dataset:**\n",
        "\n",
        "Characteristics of Dataset\n",
        "\n",
        "The files for the dataset represent a individual trial performed by a subject wearing \n",
        "a wireless batteryless sensor. Each trial consists of the performance of scripted ADL. \n",
        "The files are anonymized; however, indication of the gender of the participant is \n",
        "indicated at the end of the file name.\n",
        "\n",
        "The content of the file is as follows:\n",
        "Comma separated values (CSV) format.\n",
        "\n",
        "Column 1: Time in seconds starting from 0 rounded to the closest 0.025s\n",
        "\n",
        "Column 2: Acceleration reading in G for frontal axis\n",
        "\n",
        "Column 3: Acceleration reading in G for vertical axis\n",
        "\n",
        "Column 4: Acceleration reading in G for lateral axis\n",
        "\n",
        "Column 5: Id of antenna reading sensor\n",
        "\n",
        "Column 6: Received signal strength indicator (RSSI) \n",
        "\n",
        "Column 7: Phase\n",
        "\n",
        "Column 8: Frequency\n",
        "\n",
        "Column 9: Label of activity, 1: sit on bed, 2: sit on chair, 3: lying, 4: ambulating\n",
        "\n",
        "Additional Information\n",
        "\n",
        "If you wish to use these datasets please cite this paper."
      ]
    },
    {
      "cell_type": "markdown",
      "metadata": {
        "id": "5lJPqBSZLukQ"
      },
      "source": [
        "#Loading the dataset"
      ]
    },
    {
      "cell_type": "code",
      "metadata": {
        "colab": {
          "base_uri": "https://localhost:8080/"
        },
        "id": "YQhkbJWGQV_2",
        "outputId": "67a937a0-92af-4a6c-bf9e-e8cba1dfeeee"
      },
      "source": [
        "# Using Google colab\n",
        "##accessing google drive\n",
        "from google.colab import drive\n",
        "drive.mount('/content/drive')"
      ],
      "execution_count": 85,
      "outputs": [
        {
          "output_type": "stream",
          "text": [
            "Drive already mounted at /content/drive; to attempt to forcibly remount, call drive.mount(\"/content/drive\", force_remount=True).\n"
          ],
          "name": "stdout"
        }
      ]
    },
    {
      "cell_type": "code",
      "metadata": {
        "id": "78uPu1Jx811t"
      },
      "source": [
        "#imports\n",
        "import pandas as pd\n",
        "import numpy as np\n",
        "import matplotlib.pyplot as plt\n",
        "import seaborn as sns\n",
        "import glob"
      ],
      "execution_count": 86,
      "outputs": []
    },
    {
      "cell_type": "markdown",
      "metadata": {
        "id": "ddRLM8sR-s9q"
      },
      "source": [
        "I loaded all the study files provided by UCI into my Google directory \"/content/drive/MyDrive/Colab Notebooks/DataScience_Project2/Data/\". Now I am going to iterate through the files and load them all in one DataFrame. Notice from the UIC Learning Repository description that the files ending with \"M\" are for male users and the files ending with \"F\" are for Female users of the study."
      ]
    },
    {
      "cell_type": "code",
      "metadata": {
        "id": "szoDIx4UGJFo"
      },
      "source": [
        "# I wanted to add the .csv extension to the loaded files and found:\n",
        "#https://stackoverflow.com/questions/45627352/python-renaming-all-files-in-a-directory-using-a-loop\n",
        "path = '/content/drive/MyDrive/Colab Notebooks/DataScience_Project2/Data/'\n",
        "i = 0\n",
        "for filename in os.listdir(path):\n",
        "    os.rename(os.path.join(path,filename), os.path.join(path,filename+'.csv'))\n",
        "    i = i +1"
      ],
      "execution_count": 72,
      "outputs": []
    },
    {
      "cell_type": "markdown",
      "metadata": {
        "id": "gipGbCXgLzvA"
      },
      "source": [
        "I need to load the Male datasets into one dataframe and the Female datasets into one frame so I found this tip: https://stackoverflow.com/questions/20906474/import-multiple-csv-files-into-pandas-and-concatenate-into-one-dataframe"
      ]
    },
    {
      "cell_type": "code",
      "metadata": {
        "id": "DlozE9nCH0d8"
      },
      "source": [
        "header_list = ['Time', 'acc_front', 'acc_vert', 'acc_lat', 'antenna_id', 'rssi', 'phase', 'frequency', 'activity']\n",
        "path = r'/content/drive/MyDrive/Colab Notebooks/DataScience_Project2/Data'\n",
        "all_files = glob.glob(path + \"/*.csv\")\n",
        "\n",
        "li_m = []\n",
        "li_f = []\n",
        "\n",
        "for filename in all_files:\n",
        "    if filename.endswith('M.csv'):\n",
        "      df = pd.read_csv(filename, names=header_list)\n",
        "      li_m.append(df)\n",
        "    elif filename.endswith('F.csv'):\n",
        "      df = pd.read_csv(filename, names=header_list)\n",
        "      li_f.append(df)\n",
        "\n",
        "activity_df_m = pd.concat(li_m, axis=0, ignore_index=True)\n",
        "activity_df_f = pd.concat(li_f, axis=0, ignore_index=True)"
      ],
      "execution_count": 88,
      "outputs": []
    },
    {
      "cell_type": "markdown",
      "metadata": {
        "id": "w0jXXwYoMC5T"
      },
      "source": [
        "I am going to add a gender column and assign M and F depending on the dataset before appending them both into one"
      ]
    },
    {
      "cell_type": "code",
      "metadata": {
        "colab": {
          "base_uri": "https://localhost:8080/",
          "height": 204
        },
        "id": "kR3l0vzyLlOM",
        "outputId": "c04e910d-5d8e-4ca4-c2bd-837e472b0f16"
      },
      "source": [
        "activity_df_f['gender'] = 'F'\n",
        "activity_df_f.head()"
      ],
      "execution_count": 89,
      "outputs": [
        {
          "output_type": "execute_result",
          "data": {
            "text/html": [
              "<div>\n",
              "<style scoped>\n",
              "    .dataframe tbody tr th:only-of-type {\n",
              "        vertical-align: middle;\n",
              "    }\n",
              "\n",
              "    .dataframe tbody tr th {\n",
              "        vertical-align: top;\n",
              "    }\n",
              "\n",
              "    .dataframe thead th {\n",
              "        text-align: right;\n",
              "    }\n",
              "</style>\n",
              "<table border=\"1\" class=\"dataframe\">\n",
              "  <thead>\n",
              "    <tr style=\"text-align: right;\">\n",
              "      <th></th>\n",
              "      <th>Time</th>\n",
              "      <th>acc_front</th>\n",
              "      <th>acc_vert</th>\n",
              "      <th>acc_lat</th>\n",
              "      <th>antenna_id</th>\n",
              "      <th>rssi</th>\n",
              "      <th>phase</th>\n",
              "      <th>frequency</th>\n",
              "      <th>activity</th>\n",
              "      <th>gender</th>\n",
              "    </tr>\n",
              "  </thead>\n",
              "  <tbody>\n",
              "    <tr>\n",
              "      <th>0</th>\n",
              "      <td>0.00</td>\n",
              "      <td>0.51826</td>\n",
              "      <td>0.89339</td>\n",
              "      <td>0.13456</td>\n",
              "      <td>4</td>\n",
              "      <td>-56.5</td>\n",
              "      <td>5.83680</td>\n",
              "      <td>921.75</td>\n",
              "      <td>1</td>\n",
              "      <td>F</td>\n",
              "    </tr>\n",
              "    <tr>\n",
              "      <th>1</th>\n",
              "      <td>0.25</td>\n",
              "      <td>0.51826</td>\n",
              "      <td>0.89339</td>\n",
              "      <td>0.13456</td>\n",
              "      <td>3</td>\n",
              "      <td>-68.0</td>\n",
              "      <td>4.84120</td>\n",
              "      <td>925.75</td>\n",
              "      <td>1</td>\n",
              "      <td>F</td>\n",
              "    </tr>\n",
              "    <tr>\n",
              "      <th>2</th>\n",
              "      <td>0.75</td>\n",
              "      <td>0.51826</td>\n",
              "      <td>0.89339</td>\n",
              "      <td>0.13456</td>\n",
              "      <td>4</td>\n",
              "      <td>-55.5</td>\n",
              "      <td>3.64170</td>\n",
              "      <td>924.25</td>\n",
              "      <td>1</td>\n",
              "      <td>F</td>\n",
              "    </tr>\n",
              "    <tr>\n",
              "      <th>3</th>\n",
              "      <td>1.25</td>\n",
              "      <td>0.51826</td>\n",
              "      <td>0.89339</td>\n",
              "      <td>0.13456</td>\n",
              "      <td>3</td>\n",
              "      <td>-57.5</td>\n",
              "      <td>1.77790</td>\n",
              "      <td>924.75</td>\n",
              "      <td>1</td>\n",
              "      <td>F</td>\n",
              "    </tr>\n",
              "    <tr>\n",
              "      <th>4</th>\n",
              "      <td>1.75</td>\n",
              "      <td>0.51826</td>\n",
              "      <td>0.89339</td>\n",
              "      <td>0.13456</td>\n",
              "      <td>4</td>\n",
              "      <td>-61.5</td>\n",
              "      <td>0.24083</td>\n",
              "      <td>922.75</td>\n",
              "      <td>1</td>\n",
              "      <td>F</td>\n",
              "    </tr>\n",
              "  </tbody>\n",
              "</table>\n",
              "</div>"
            ],
            "text/plain": [
              "   Time  acc_front  acc_vert  acc_lat  ...    phase  frequency  activity  gender\n",
              "0  0.00    0.51826   0.89339  0.13456  ...  5.83680     921.75         1       F\n",
              "1  0.25    0.51826   0.89339  0.13456  ...  4.84120     925.75         1       F\n",
              "2  0.75    0.51826   0.89339  0.13456  ...  3.64170     924.25         1       F\n",
              "3  1.25    0.51826   0.89339  0.13456  ...  1.77790     924.75         1       F\n",
              "4  1.75    0.51826   0.89339  0.13456  ...  0.24083     922.75         1       F\n",
              "\n",
              "[5 rows x 10 columns]"
            ]
          },
          "metadata": {
            "tags": []
          },
          "execution_count": 89
        }
      ]
    },
    {
      "cell_type": "code",
      "metadata": {
        "colab": {
          "base_uri": "https://localhost:8080/",
          "height": 204
        },
        "id": "bY8aExS3LhkR",
        "outputId": "82d2bee5-b5be-4863-c44e-31b7e6a200cd"
      },
      "source": [
        "activity_df_m['gender'] = 'M'\n",
        "activity_df_m.head()"
      ],
      "execution_count": 90,
      "outputs": [
        {
          "output_type": "execute_result",
          "data": {
            "text/html": [
              "<div>\n",
              "<style scoped>\n",
              "    .dataframe tbody tr th:only-of-type {\n",
              "        vertical-align: middle;\n",
              "    }\n",
              "\n",
              "    .dataframe tbody tr th {\n",
              "        vertical-align: top;\n",
              "    }\n",
              "\n",
              "    .dataframe thead th {\n",
              "        text-align: right;\n",
              "    }\n",
              "</style>\n",
              "<table border=\"1\" class=\"dataframe\">\n",
              "  <thead>\n",
              "    <tr style=\"text-align: right;\">\n",
              "      <th></th>\n",
              "      <th>Time</th>\n",
              "      <th>acc_front</th>\n",
              "      <th>acc_vert</th>\n",
              "      <th>acc_lat</th>\n",
              "      <th>antenna_id</th>\n",
              "      <th>rssi</th>\n",
              "      <th>phase</th>\n",
              "      <th>frequency</th>\n",
              "      <th>activity</th>\n",
              "      <th>gender</th>\n",
              "    </tr>\n",
              "  </thead>\n",
              "  <tbody>\n",
              "    <tr>\n",
              "      <th>0</th>\n",
              "      <td>0.00</td>\n",
              "      <td>-0.044557</td>\n",
              "      <td>0.93932</td>\n",
              "      <td>0.111750</td>\n",
              "      <td>1</td>\n",
              "      <td>-58.0</td>\n",
              "      <td>0.17794</td>\n",
              "      <td>920.75</td>\n",
              "      <td>4</td>\n",
              "      <td>M</td>\n",
              "    </tr>\n",
              "    <tr>\n",
              "      <th>1</th>\n",
              "      <td>0.25</td>\n",
              "      <td>-0.044557</td>\n",
              "      <td>0.93932</td>\n",
              "      <td>0.111750</td>\n",
              "      <td>1</td>\n",
              "      <td>-60.0</td>\n",
              "      <td>0.46940</td>\n",
              "      <td>920.25</td>\n",
              "      <td>4</td>\n",
              "      <td>M</td>\n",
              "    </tr>\n",
              "    <tr>\n",
              "      <th>2</th>\n",
              "      <td>0.75</td>\n",
              "      <td>-0.044557</td>\n",
              "      <td>0.93932</td>\n",
              "      <td>0.111750</td>\n",
              "      <td>3</td>\n",
              "      <td>-68.5</td>\n",
              "      <td>0.15033</td>\n",
              "      <td>923.25</td>\n",
              "      <td>1</td>\n",
              "      <td>M</td>\n",
              "    </tr>\n",
              "    <tr>\n",
              "      <th>3</th>\n",
              "      <td>1.50</td>\n",
              "      <td>-0.044557</td>\n",
              "      <td>0.93932</td>\n",
              "      <td>0.111750</td>\n",
              "      <td>4</td>\n",
              "      <td>-57.5</td>\n",
              "      <td>5.10820</td>\n",
              "      <td>925.75</td>\n",
              "      <td>1</td>\n",
              "      <td>M</td>\n",
              "    </tr>\n",
              "    <tr>\n",
              "      <th>4</th>\n",
              "      <td>2.50</td>\n",
              "      <td>0.612070</td>\n",
              "      <td>0.89339</td>\n",
              "      <td>0.009122</td>\n",
              "      <td>4</td>\n",
              "      <td>-57.5</td>\n",
              "      <td>4.39490</td>\n",
              "      <td>920.75</td>\n",
              "      <td>1</td>\n",
              "      <td>M</td>\n",
              "    </tr>\n",
              "  </tbody>\n",
              "</table>\n",
              "</div>"
            ],
            "text/plain": [
              "   Time  acc_front  acc_vert   acc_lat  ...    phase  frequency  activity  gender\n",
              "0  0.00  -0.044557   0.93932  0.111750  ...  0.17794     920.75         4       M\n",
              "1  0.25  -0.044557   0.93932  0.111750  ...  0.46940     920.25         4       M\n",
              "2  0.75  -0.044557   0.93932  0.111750  ...  0.15033     923.25         1       M\n",
              "3  1.50  -0.044557   0.93932  0.111750  ...  5.10820     925.75         1       M\n",
              "4  2.50   0.612070   0.89339  0.009122  ...  4.39490     920.75         1       M\n",
              "\n",
              "[5 rows x 10 columns]"
            ]
          },
          "metadata": {
            "tags": []
          },
          "execution_count": 90
        }
      ]
    },
    {
      "cell_type": "markdown",
      "metadata": {
        "id": "TtVqJqGWMZCs"
      },
      "source": [
        "Appending the dataframes into one dataframe finally :)\n",
        "\n",
        "a nice walkthrough here: https://www.geeksforgeeks.org/python-pandas-dataframe-append/"
      ]
    },
    {
      "cell_type": "code",
      "metadata": {
        "colab": {
          "base_uri": "https://localhost:8080/",
          "height": 419
        },
        "id": "VzWBdJR0MhIK",
        "outputId": "3cdc685e-c8d2-4165-ecc5-11e0f7e58918"
      },
      "source": [
        "activity_df = activity_df_f.append(activity_df_m, ignore_index=True)\n",
        "activity_df"
      ],
      "execution_count": 91,
      "outputs": [
        {
          "output_type": "execute_result",
          "data": {
            "text/html": [
              "<div>\n",
              "<style scoped>\n",
              "    .dataframe tbody tr th:only-of-type {\n",
              "        vertical-align: middle;\n",
              "    }\n",
              "\n",
              "    .dataframe tbody tr th {\n",
              "        vertical-align: top;\n",
              "    }\n",
              "\n",
              "    .dataframe thead th {\n",
              "        text-align: right;\n",
              "    }\n",
              "</style>\n",
              "<table border=\"1\" class=\"dataframe\">\n",
              "  <thead>\n",
              "    <tr style=\"text-align: right;\">\n",
              "      <th></th>\n",
              "      <th>Time</th>\n",
              "      <th>acc_front</th>\n",
              "      <th>acc_vert</th>\n",
              "      <th>acc_lat</th>\n",
              "      <th>antenna_id</th>\n",
              "      <th>rssi</th>\n",
              "      <th>phase</th>\n",
              "      <th>frequency</th>\n",
              "      <th>activity</th>\n",
              "      <th>gender</th>\n",
              "    </tr>\n",
              "  </thead>\n",
              "  <tbody>\n",
              "    <tr>\n",
              "      <th>0</th>\n",
              "      <td>0.00</td>\n",
              "      <td>0.51826</td>\n",
              "      <td>0.89339</td>\n",
              "      <td>0.134560</td>\n",
              "      <td>4</td>\n",
              "      <td>-56.5</td>\n",
              "      <td>5.83680</td>\n",
              "      <td>921.75</td>\n",
              "      <td>1</td>\n",
              "      <td>F</td>\n",
              "    </tr>\n",
              "    <tr>\n",
              "      <th>1</th>\n",
              "      <td>0.25</td>\n",
              "      <td>0.51826</td>\n",
              "      <td>0.89339</td>\n",
              "      <td>0.134560</td>\n",
              "      <td>3</td>\n",
              "      <td>-68.0</td>\n",
              "      <td>4.84120</td>\n",
              "      <td>925.75</td>\n",
              "      <td>1</td>\n",
              "      <td>F</td>\n",
              "    </tr>\n",
              "    <tr>\n",
              "      <th>2</th>\n",
              "      <td>0.75</td>\n",
              "      <td>0.51826</td>\n",
              "      <td>0.89339</td>\n",
              "      <td>0.134560</td>\n",
              "      <td>4</td>\n",
              "      <td>-55.5</td>\n",
              "      <td>3.64170</td>\n",
              "      <td>924.25</td>\n",
              "      <td>1</td>\n",
              "      <td>F</td>\n",
              "    </tr>\n",
              "    <tr>\n",
              "      <th>3</th>\n",
              "      <td>1.25</td>\n",
              "      <td>0.51826</td>\n",
              "      <td>0.89339</td>\n",
              "      <td>0.134560</td>\n",
              "      <td>3</td>\n",
              "      <td>-57.5</td>\n",
              "      <td>1.77790</td>\n",
              "      <td>924.75</td>\n",
              "      <td>1</td>\n",
              "      <td>F</td>\n",
              "    </tr>\n",
              "    <tr>\n",
              "      <th>4</th>\n",
              "      <td>1.75</td>\n",
              "      <td>0.51826</td>\n",
              "      <td>0.89339</td>\n",
              "      <td>0.134560</td>\n",
              "      <td>4</td>\n",
              "      <td>-61.5</td>\n",
              "      <td>0.24083</td>\n",
              "      <td>922.75</td>\n",
              "      <td>1</td>\n",
              "      <td>F</td>\n",
              "    </tr>\n",
              "    <tr>\n",
              "      <th>...</th>\n",
              "      <td>...</td>\n",
              "      <td>...</td>\n",
              "      <td>...</td>\n",
              "      <td>...</td>\n",
              "      <td>...</td>\n",
              "      <td>...</td>\n",
              "      <td>...</td>\n",
              "      <td>...</td>\n",
              "      <td>...</td>\n",
              "      <td>...</td>\n",
              "    </tr>\n",
              "    <tr>\n",
              "      <th>75123</th>\n",
              "      <td>938.25</td>\n",
              "      <td>0.88175</td>\n",
              "      <td>0.75559</td>\n",
              "      <td>0.145960</td>\n",
              "      <td>1</td>\n",
              "      <td>-64.0</td>\n",
              "      <td>4.85810</td>\n",
              "      <td>925.25</td>\n",
              "      <td>2</td>\n",
              "      <td>M</td>\n",
              "    </tr>\n",
              "    <tr>\n",
              "      <th>75124</th>\n",
              "      <td>950.00</td>\n",
              "      <td>0.83485</td>\n",
              "      <td>0.77856</td>\n",
              "      <td>0.123150</td>\n",
              "      <td>1</td>\n",
              "      <td>-62.5</td>\n",
              "      <td>2.25340</td>\n",
              "      <td>923.75</td>\n",
              "      <td>2</td>\n",
              "      <td>M</td>\n",
              "    </tr>\n",
              "    <tr>\n",
              "      <th>75125</th>\n",
              "      <td>959.50</td>\n",
              "      <td>0.83485</td>\n",
              "      <td>0.77856</td>\n",
              "      <td>0.123150</td>\n",
              "      <td>1</td>\n",
              "      <td>-60.0</td>\n",
              "      <td>1.40970</td>\n",
              "      <td>920.25</td>\n",
              "      <td>2</td>\n",
              "      <td>M</td>\n",
              "    </tr>\n",
              "    <tr>\n",
              "      <th>75126</th>\n",
              "      <td>964.50</td>\n",
              "      <td>0.83485</td>\n",
              "      <td>0.77856</td>\n",
              "      <td>0.123150</td>\n",
              "      <td>1</td>\n",
              "      <td>-59.5</td>\n",
              "      <td>1.34380</td>\n",
              "      <td>920.25</td>\n",
              "      <td>2</td>\n",
              "      <td>M</td>\n",
              "    </tr>\n",
              "    <tr>\n",
              "      <th>75127</th>\n",
              "      <td>981.75</td>\n",
              "      <td>0.78795</td>\n",
              "      <td>0.79004</td>\n",
              "      <td>0.088944</td>\n",
              "      <td>1</td>\n",
              "      <td>-60.0</td>\n",
              "      <td>1.21950</td>\n",
              "      <td>920.25</td>\n",
              "      <td>2</td>\n",
              "      <td>M</td>\n",
              "    </tr>\n",
              "  </tbody>\n",
              "</table>\n",
              "<p>75128 rows × 10 columns</p>\n",
              "</div>"
            ],
            "text/plain": [
              "         Time  acc_front  acc_vert  ...  frequency  activity  gender\n",
              "0        0.00    0.51826   0.89339  ...     921.75         1       F\n",
              "1        0.25    0.51826   0.89339  ...     925.75         1       F\n",
              "2        0.75    0.51826   0.89339  ...     924.25         1       F\n",
              "3        1.25    0.51826   0.89339  ...     924.75         1       F\n",
              "4        1.75    0.51826   0.89339  ...     922.75         1       F\n",
              "...       ...        ...       ...  ...        ...       ...     ...\n",
              "75123  938.25    0.88175   0.75559  ...     925.25         2       M\n",
              "75124  950.00    0.83485   0.77856  ...     923.75         2       M\n",
              "75125  959.50    0.83485   0.77856  ...     920.25         2       M\n",
              "75126  964.50    0.83485   0.77856  ...     920.25         2       M\n",
              "75127  981.75    0.78795   0.79004  ...     920.25         2       M\n",
              "\n",
              "[75128 rows x 10 columns]"
            ]
          },
          "metadata": {
            "tags": []
          },
          "execution_count": 91
        }
      ]
    },
    {
      "cell_type": "markdown",
      "metadata": {
        "id": "bYVZPpCQNEeP"
      },
      "source": [
        "I now have one full dataset with 75128 rows (matches the number of rows on the UCI Learning Repository link) and 10 columns after adding the gender column to the original dataset."
      ]
    }
  ]
}